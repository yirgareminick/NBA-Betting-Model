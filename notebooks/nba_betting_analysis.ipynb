{
 "cells": [
  {
   "cell_type": "code",
   "execution_count": null,
   "metadata": {},
   "outputs": [],
   "source": [
    "# NBA Betting Model Analysis & Visualization\n",
    "\n",
    "#This notebook provides comprehensive analysis and visualization of the NBA betting model data.\n",
    "\n",
    "#**Current Section**: Data Loading & Overview  \n",
    "#**Last Updated**: August 2025\n"
   ]
  },
  {
   "cell_type": "code",
   "execution_count": 1,
   "metadata": {},
   "outputs": [
    {
     "name": "stdout",
     "output_type": "stream",
     "text": [
      "🏀 NBA Betting Analysis Setup Complete\n",
      "Project Root: /Users/yirgareminick/Documents/NBA-Betting-Model\n",
      "Data Path: /Users/yirgareminick/Documents/NBA-Betting-Model/data\n",
      "==================================================\n"
     ]
    }
   ],
   "source": [
    "# Import necessary libraries\n",
    "import pandas as pd\n",
    "import numpy as np\n",
    "import matplotlib.pyplot as plt\n",
    "import seaborn as sns\n",
    "import plotly.express as px\n",
    "import plotly.graph_objects as go\n",
    "from plotly.subplots import make_subplots\n",
    "import warnings\n",
    "from pathlib import Path\n",
    "import sqlite3\n",
    "from datetime import datetime, date\n",
    "import yaml\n",
    "\n",
    "# Set up plotting styles\n",
    "plt.style.use('seaborn-v0_8')\n",
    "sns.set_palette(\"husl\")\n",
    "warnings.filterwarnings('ignore')\n",
    "\n",
    "# Configure pandas display\n",
    "pd.set_option('display.max_columns', None)\n",
    "pd.set_option('display.width', 1000)\n",
    "\n",
    "# Set up paths\n",
    "PROJECT_ROOT = Path('.').absolute().parent\n",
    "DATA_PATH = PROJECT_ROOT / 'data'\n",
    "PROCESSED_PATH = DATA_PATH / 'processed'\n",
    "RAW_PATH = DATA_PATH / 'raw'\n",
    "\n",
    "print(\"🏀 NBA Betting Analysis Setup Complete\")\n",
    "print(f\"Project Root: {PROJECT_ROOT}\")\n",
    "print(f\"Data Path: {DATA_PATH}\")\n",
    "print(\"=\"*50)\n"
   ]
  },
  {
   "cell_type": "code",
   "execution_count": 3,
   "metadata": {},
   "outputs": [
    {
     "name": "stdout",
     "output_type": "stream",
     "text": [
      "✅ Loaded processed features: (9250, 18)\n",
      "✅ Loaded 2024-2025 games: (65698, 55)\n",
      "✅ Loaded historical games: (4626, 55)\n",
      "✅ Found performance database: /Users/yirgareminick/Documents/NBA-Betting-Model/data/performance.db\n",
      "\n",
      "==================================================\n",
      "📊 Data Summary:\n",
      "• Features: 9,250 records, 18 features\n",
      "• Recent Games: 65,698 games (2024-2025)\n",
      "• Historical Games: 4,626 games (2020-2023)\n",
      "• Performance Tracking: Available\n",
      "==================================================\n"
     ]
    }
   ],
   "source": [
    "# Load processed features data\n",
    "features_file = PROCESSED_PATH / 'nba_features.parquet'\n",
    "if features_file.exists():\n",
    "    features_df = pd.read_parquet(features_file)\n",
    "    print(f\"✅ Loaded processed features: {features_df.shape}\")\n",
    "else:\n",
    "    print(\"❌ No processed features found\")\n",
    "    features_df = None\n",
    "\n",
    "# Load recent games data (2024-2025 season)\n",
    "games_file = PROCESSED_PATH / 'games_2024_2025.csv'\n",
    "if games_file.exists():\n",
    "    games_df = pd.read_csv(games_file)\n",
    "    games_df['game_date'] = pd.to_datetime(games_df['game_date'])\n",
    "    print(f\"✅ Loaded 2024-2025 games: {games_df.shape}\")\n",
    "else:\n",
    "    print(\"❌ No recent games data found\")\n",
    "    games_df = None\n",
    "\n",
    "# Load historical games data (2020-2023)\n",
    "historical_file = PROCESSED_PATH / 'games_2020_2023.csv'\n",
    "if historical_file.exists():\n",
    "    historical_df = pd.read_csv(historical_file)\n",
    "    historical_df['game_date'] = pd.to_datetime(historical_df['game_date'])\n",
    "    print(f\"✅ Loaded historical games: {historical_df.shape}\")\n",
    "else:\n",
    "    print(\"❌ No historical games data found\")\n",
    "    historical_df = None\n",
    "\n",
    "# Check for performance database\n",
    "performance_db = DATA_PATH / 'performance.db'\n",
    "if performance_db.exists():\n",
    "    print(f\"✅ Found performance database: {performance_db}\")\n",
    "    performance_available = True\n",
    "else:\n",
    "    print(\"❌ No performance database found\")\n",
    "    performance_available = False\n",
    "\n",
    "print(\"\\n\" + \"=\"*50)\n",
    "print(\"📊 Data Summary:\")\n",
    "if features_df is not None:\n",
    "    print(f\"• Features: {features_df.shape[0]:,} records, {features_df.shape[1]} features\")\n",
    "if games_df is not None:\n",
    "    print(f\"• Recent Games: {games_df.shape[0]:,} games (2024-2025)\")\n",
    "if historical_df is not None:\n",
    "    print(f\"• Historical Games: {historical_df.shape[0]:,} games (2020-2023)\")\n",
    "print(f\"• Performance Tracking: {'Available' if performance_available else 'Not Available'}\")\n",
    "print(\"=\"*50)\n"
   ]
  },
  {
   "cell_type": "code",
   "execution_count": 12,
   "metadata": {},
   "outputs": [
    {
     "name": "stdout",
     "output_type": "stream",
     "text": [
      "FEATURES DATA EXPLORATION\n",
      "==================================================\n",
      "Dataset Info:\n",
      "• Shape: (9250, 18)\n",
      "• Date Range: 2020-01-01 to 2023-06-12\n",
      "• Unique Teams: 34\n",
      "• Total Games: 4624\n",
      "\n",
      "Feature Categories:\n",
      "• Basic Info: 7 features\n",
      "• Rolling Stats: 6 features\n",
      "• Season Stats: 3 features\n",
      "• Other Features: 2 features\n",
      "\n",
      "Sample Data:\n"
     ]
    },
    {
     "data": {
      "text/html": [
       "<div>\n",
       "<style scoped>\n",
       "    .dataframe tbody tr th:only-of-type {\n",
       "        vertical-align: middle;\n",
       "    }\n",
       "\n",
       "    .dataframe tbody tr th {\n",
       "        vertical-align: top;\n",
       "    }\n",
       "\n",
       "    .dataframe thead th {\n",
       "        text-align: right;\n",
       "    }\n",
       "</style>\n",
       "<table border=\"1\" class=\"dataframe\">\n",
       "  <thead>\n",
       "    <tr style=\"text-align: right;\">\n",
       "      <th></th>\n",
       "      <th>game_id</th>\n",
       "      <th>game_date</th>\n",
       "      <th>team_name</th>\n",
       "      <th>opponent</th>\n",
       "      <th>venue</th>\n",
       "      <th>is_home</th>\n",
       "      <th>target_win</th>\n",
       "      <th>avg_pts_last_10</th>\n",
       "      <th>avg_pts_allowed_last_10</th>\n",
       "      <th>avg_point_diff_last_10</th>\n",
       "      <th>win_pct_last_10</th>\n",
       "      <th>win_pct_last_5</th>\n",
       "      <th>avg_point_diff_last_5</th>\n",
       "      <th>rest_days</th>\n",
       "      <th>game_number_in_season</th>\n",
       "      <th>season_win_pct</th>\n",
       "      <th>season_avg_pts</th>\n",
       "      <th>season_avg_pts_allowed</th>\n",
       "    </tr>\n",
       "  </thead>\n",
       "  <tbody>\n",
       "    <tr>\n",
       "      <th>0</th>\n",
       "      <td>21900517</td>\n",
       "      <td>2020-01-03</td>\n",
       "      <td>Atlanta Hawks</td>\n",
       "      <td>Boston Celtics</td>\n",
       "      <td>away</td>\n",
       "      <td>False</td>\n",
       "      <td>False</td>\n",
       "      <td>NaN</td>\n",
       "      <td>NaN</td>\n",
       "      <td>NaN</td>\n",
       "      <td>NaN</td>\n",
       "      <td>NaN</td>\n",
       "      <td>NaN</td>\n",
       "      <td>2</td>\n",
       "      <td>1.0</td>\n",
       "      <td>0.40625</td>\n",
       "      <td>116.09375</td>\n",
       "      <td>121.5</td>\n",
       "    </tr>\n",
       "    <tr>\n",
       "      <th>1</th>\n",
       "      <td>21900526</td>\n",
       "      <td>2020-01-04</td>\n",
       "      <td>Atlanta Hawks</td>\n",
       "      <td>Indiana Pacers</td>\n",
       "      <td>home</td>\n",
       "      <td>True</td>\n",
       "      <td>True</td>\n",
       "      <td>NaN</td>\n",
       "      <td>NaN</td>\n",
       "      <td>NaN</td>\n",
       "      <td>NaN</td>\n",
       "      <td>NaN</td>\n",
       "      <td>NaN</td>\n",
       "      <td>1</td>\n",
       "      <td>2.0</td>\n",
       "      <td>0.40625</td>\n",
       "      <td>116.09375</td>\n",
       "      <td>121.5</td>\n",
       "    </tr>\n",
       "    <tr>\n",
       "      <th>2</th>\n",
       "      <td>21900543</td>\n",
       "      <td>2020-01-06</td>\n",
       "      <td>Atlanta Hawks</td>\n",
       "      <td>Denver Nuggets</td>\n",
       "      <td>home</td>\n",
       "      <td>True</td>\n",
       "      <td>False</td>\n",
       "      <td>NaN</td>\n",
       "      <td>NaN</td>\n",
       "      <td>NaN</td>\n",
       "      <td>NaN</td>\n",
       "      <td>NaN</td>\n",
       "      <td>NaN</td>\n",
       "      <td>2</td>\n",
       "      <td>3.0</td>\n",
       "      <td>0.40625</td>\n",
       "      <td>116.09375</td>\n",
       "      <td>121.5</td>\n",
       "    </tr>\n",
       "    <tr>\n",
       "      <th>3</th>\n",
       "      <td>21900558</td>\n",
       "      <td>2020-01-08</td>\n",
       "      <td>Atlanta Hawks</td>\n",
       "      <td>Houston Rockets</td>\n",
       "      <td>home</td>\n",
       "      <td>True</td>\n",
       "      <td>False</td>\n",
       "      <td>NaN</td>\n",
       "      <td>NaN</td>\n",
       "      <td>NaN</td>\n",
       "      <td>NaN</td>\n",
       "      <td>NaN</td>\n",
       "      <td>NaN</td>\n",
       "      <td>2</td>\n",
       "      <td>4.0</td>\n",
       "      <td>0.40625</td>\n",
       "      <td>116.09375</td>\n",
       "      <td>121.5</td>\n",
       "    </tr>\n",
       "    <tr>\n",
       "      <th>4</th>\n",
       "      <td>21900567</td>\n",
       "      <td>2020-01-10</td>\n",
       "      <td>Atlanta Hawks</td>\n",
       "      <td>Washington Wizards</td>\n",
       "      <td>away</td>\n",
       "      <td>False</td>\n",
       "      <td>False</td>\n",
       "      <td>NaN</td>\n",
       "      <td>NaN</td>\n",
       "      <td>NaN</td>\n",
       "      <td>NaN</td>\n",
       "      <td>NaN</td>\n",
       "      <td>NaN</td>\n",
       "      <td>2</td>\n",
       "      <td>5.0</td>\n",
       "      <td>0.40625</td>\n",
       "      <td>116.09375</td>\n",
       "      <td>121.5</td>\n",
       "    </tr>\n",
       "  </tbody>\n",
       "</table>\n",
       "</div>"
      ],
      "text/plain": [
       "    game_id   game_date      team_name            opponent venue  is_home  target_win  avg_pts_last_10  avg_pts_allowed_last_10  avg_point_diff_last_10  win_pct_last_10  win_pct_last_5  avg_point_diff_last_5  rest_days  game_number_in_season  season_win_pct  season_avg_pts  season_avg_pts_allowed\n",
       "0  21900517  2020-01-03  Atlanta Hawks      Boston Celtics  away    False       False              NaN                      NaN                     NaN              NaN             NaN                    NaN          2                    1.0         0.40625       116.09375                   121.5\n",
       "1  21900526  2020-01-04  Atlanta Hawks      Indiana Pacers  home     True        True              NaN                      NaN                     NaN              NaN             NaN                    NaN          1                    2.0         0.40625       116.09375                   121.5\n",
       "2  21900543  2020-01-06  Atlanta Hawks      Denver Nuggets  home     True       False              NaN                      NaN                     NaN              NaN             NaN                    NaN          2                    3.0         0.40625       116.09375                   121.5\n",
       "3  21900558  2020-01-08  Atlanta Hawks     Houston Rockets  home     True       False              NaN                      NaN                     NaN              NaN             NaN                    NaN          2                    4.0         0.40625       116.09375                   121.5\n",
       "4  21900567  2020-01-10  Atlanta Hawks  Washington Wizards  away    False       False              NaN                      NaN                     NaN              NaN             NaN                    NaN          2                    5.0         0.40625       116.09375                   121.5"
      ]
     },
     "metadata": {},
     "output_type": "display_data"
    },
    {
     "name": "stdout",
     "output_type": "stream",
     "text": [
      "\n",
      "Target Variable Distribution:\n",
      "• Overall Win Rate: 50.0%\n",
      "• Home Win Rate: 55.3%\n",
      "• Away Win Rate: 44.7%\n"
     ]
    }
   ],
   "source": [
    "# Explore features data structure\n",
    "if features_df is not None:\n",
    "    print(\"FEATURES DATA EXPLORATION\")\n",
    "    print(\"=\"*50)\n",
    "    \n",
    "    print(\"Dataset Info:\")\n",
    "    print(f\"• Shape: {features_df.shape}\")\n",
    "    print(f\"• Date Range: {features_df['game_date'].min()} to {features_df['game_date'].max()}\")\n",
    "    print(f\"• Unique Teams: {features_df['team_name'].nunique()}\")\n",
    "    print(f\"• Total Games: {features_df['game_id'].nunique()}\")\n",
    "    \n",
    "    print(\"\\nFeature Categories:\")\n",
    "    feature_cols = features_df.columns.tolist()\n",
    "    \n",
    "    # Categorize features\n",
    "    rolling_features = [col for col in feature_cols if 'last_' in col]\n",
    "    season_features = [col for col in feature_cols if 'season_' in col]\n",
    "    basic_features = [col for col in feature_cols if col in ['game_id', 'game_date', 'team_name', 'opponent', 'venue', 'is_home', 'target_win']]\n",
    "    other_features = [col for col in feature_cols if col not in rolling_features + season_features + basic_features]\n",
    "    \n",
    "    print(f\"• Basic Info: {len(basic_features)} features\")\n",
    "    print(f\"• Rolling Stats: {len(rolling_features)} features\")\n",
    "    print(f\"• Season Stats: {len(season_features)} features\") \n",
    "    print(f\"• Other Features: {len(other_features)} features\")\n",
    "    \n",
    "    print(\"\\nSample Data:\")\n",
    "    display(features_df.head())\n",
    "    \n",
    "    print(\"\\nTarget Variable Distribution:\")\n",
    "    win_rate = features_df['target_win'].mean()\n",
    "    print(f\"• Overall Win Rate: {win_rate:.1%}\")\n",
    "    if 'is_home' in features_df.columns:\n",
    "        print(f\"• Home Win Rate: {features_df[features_df['is_home']==1]['target_win'].mean():.1%}\")\n",
    "        print(f\"• Away Win Rate: {features_df[features_df['is_home']==0]['target_win'].mean():.1%}\")\n",
    "else:\n",
    "    print(\"❌ No features data available for exploration\")\n"
   ]
  },
  {
   "cell_type": "code",
   "execution_count": 13,
   "metadata": {},
   "outputs": [
    {
     "name": "stdout",
     "output_type": "stream",
     "text": [
      "FEATURE CORRELATION ANALYSIS\n",
      "==================================================\n",
      "Analyzing correlations for 11 numeric features\n",
      "\n",
      "TOP 15 FEATURES CORRELATED WITH WINS:\n",
      "--------------------------------------------------\n",
      " 1. season_win_pct                 +0.2912\n",
      " 2. avg_point_diff_last_10         +0.1550\n",
      " 3. season_avg_pts_allowed         -0.1516\n",
      " 4. season_avg_pts                 +0.1409\n",
      " 5. win_pct_last_10                +0.1374\n",
      " 6. avg_point_diff_last_5          +0.1324\n",
      " 7. win_pct_last_5                 +0.1149\n",
      " 8. avg_pts_allowed_last_10        -0.0864\n",
      " 9. avg_pts_last_10                +0.0853\n",
      "10. rest_days                      +0.0086\n",
      "11. game_number_in_season          -0.0011\n",
      "\n",
      "BOTTOM 10 FEATURES CORRELATED WITH WINS:\n",
      "--------------------------------------------------\n",
      " 1. avg_point_diff_last_10         +0.1550\n",
      " 2. season_avg_pts_allowed         -0.1516\n",
      " 3. season_avg_pts                 +0.1409\n",
      " 4. win_pct_last_10                +0.1374\n",
      " 5. avg_point_diff_last_5          +0.1324\n",
      " 6. win_pct_last_5                 +0.1149\n",
      " 7. avg_pts_allowed_last_10        -0.0864\n",
      " 8. avg_pts_last_10                +0.0853\n",
      " 9. rest_days                      +0.0086\n",
      "10. game_number_in_season          -0.0011\n"
     ]
    },
    {
     "data": {
      "image/png": "[encoded data removed]",
      "text/plain": [
       "<Figure size 1200x1000 with 2 Axes>"
      ]
     },
     "metadata": {},
     "output_type": "display_data"
    },
    {
     "name": "stdout",
     "output_type": "stream",
     "text": [
      "\n",
      "KEY INSIGHTS:\n",
      "--------------------------------------------------\n",
      "• Strongest positive predictor: season_win_pct (+0.2912)\n",
      "• Strongest negative predictor: season_avg_pts_allowed (-0.1516)\n",
      "• Features with correlation > 0.1: 6\n",
      "• Features with correlation < -0.1: 1\n"
     ]
    }
   ],
   "source": [
    "# Feature Correlation Analysis\n",
    "if features_df is not None:\n",
    "    print(\"FEATURE CORRELATION ANALYSIS\")\n",
    "    print(\"=\"*50)\n",
    "    \n",
    "    # Select numeric features for correlation analysis\n",
    "    numeric_cols = features_df.select_dtypes(include=[np.number]).columns.tolist()\n",
    "    # Remove non-feature columns\n",
    "    exclude_cols = ['game_id', 'target_win']\n",
    "    numeric_features = [col for col in numeric_cols if col not in exclude_cols]\n",
    "    \n",
    "    print(f\"Analyzing correlations for {len(numeric_features)} numeric features\")\n",
    "    \n",
    "    # Calculate correlation matrix\n",
    "    corr_matrix = features_df[numeric_features + ['target_win']].corr()\n",
    "    \n",
    "    # Get correlations with target variable\n",
    "    target_correlations = corr_matrix['target_win'].drop('target_win').sort_values(key=abs, ascending=False)\n",
    "    \n",
    "    print(\"\\nTOP 15 FEATURES CORRELATED WITH WINS:\")\n",
    "    print(\"-\" * 50)\n",
    "    for i, (feature, corr) in enumerate(target_correlations.head(15).items(), 1):\n",
    "        print(f\"{i:2d}. {feature:<30} {corr:+.4f}\")\n",
    "    \n",
    "    print(f\"\\nBOTTOM 10 FEATURES CORRELATED WITH WINS:\")\n",
    "    print(\"-\" * 50)\n",
    "    for i, (feature, corr) in enumerate(target_correlations.tail(10).items(), 1):\n",
    "        print(f\"{i:2d}. {feature:<30} {corr:+.4f}\")\n",
    "    \n",
    "    # Create correlation heatmap for top features\n",
    "    top_features = target_correlations.head(10).index.tolist() + ['target_win']\n",
    "    top_corr_matrix = features_df[top_features].corr()\n",
    "    \n",
    "    plt.figure(figsize=(12, 10))\n",
    "    sns.heatmap(top_corr_matrix, annot=True, cmap='RdBu_r', center=0, \n",
    "                square=True, fmt='.3f', cbar_kws={'label': 'Correlation Coefficient'})\n",
    "    plt.title('Correlation Matrix: Top 10 Features vs Target Win', fontsize=14, fontweight='bold')\n",
    "    plt.tight_layout()\n",
    "    plt.show()\n",
    "    \n",
    "    # Feature importance insights\n",
    "    print(f\"\\nKEY INSIGHTS:\")\n",
    "    print(\"-\" * 50)\n",
    "    strongest_positive = target_correlations.idxmax()\n",
    "    strongest_negative = target_correlations.idxmin()\n",
    "    print(f\"• Strongest positive predictor: {strongest_positive} ({target_correlations[strongest_positive]:+.4f})\")\n",
    "    print(f\"• Strongest negative predictor: {strongest_negative} ({target_correlations[strongest_negative]:+.4f})\")\n",
    "    print(f\"• Features with correlation > 0.1: {len(target_correlations[target_correlations > 0.1])}\")\n",
    "    print(f\"• Features with correlation < -0.1: {len(target_correlations[target_correlations < -0.1])}\")\n",
    "    \n",
    "else:\n",
    "    print(\"❌ No features data available for correlation analysis\")"
   ]
  },
  {
   "cell_type": "code",
   "execution_count": 14,
   "metadata": {},
   "outputs": [
    {
     "name": "stdout",
     "output_type": "stream",
     "text": [
      "TEAM PERFORMANCE VISUALIZATIONS\n",
      "==================================================\n"
     ]
    },
    {
     "data": {
      "image/png": "[encoded data removed]",
      "text/plain": [
       "<Figure size 1600x1200 with 4 Axes>"
      ]
     },
     "metadata": {},
     "output_type": "display_data"
    },
    {
     "name": "stdout",
     "output_type": "stream",
     "text": [
      "\n",
      "KEY PERFORMANCE INSIGHTS:\n",
      "--------------------------------------------------\n",
      "• Best Team: Team Giannis (66.7% win rate)\n",
      "• Worst Team: Ra'anana Maccabi Ra'anana (0.0% win rate)\n",
      "• Teams improving recently: 0\n",
      "• Teams declining recently: 0\n",
      "• Average point differential: -1.6\n"
     ]
    }
   ],
   "source": [
    "# Team Performance Visualization\n",
    "if features_df is not None:\n",
    "    print(\"TEAM PERFORMANCE VISUALIZATIONS\")\n",
    "    print(\"=\"*50)\n",
    "    \n",
    "    # Calculate team-level aggregations for visualization\n",
    "    team_performance = features_df.groupby('team_name').agg({\n",
    "        'target_win': ['count', 'mean'],\n",
    "        'season_win_pct': 'mean',\n",
    "        'season_avg_pts': 'mean',\n",
    "        'season_avg_pts_allowed': 'mean',\n",
    "        'win_pct_last_10': 'mean',\n",
    "        'is_home': 'mean'\n",
    "    }).round(3)\n",
    "    \n",
    "    # Flatten column names\n",
    "    team_performance.columns = ['games_played', 'win_rate', 'season_win_pct', \n",
    "                               'avg_pts_scored', 'avg_pts_allowed', 'recent_win_pct', 'home_pct']\n",
    "    team_performance = team_performance.reset_index()\n",
    "    \n",
    "    # Add point differential\n",
    "    team_performance['point_differential'] = team_performance['avg_pts_scored'] - team_performance['avg_pts_allowed']\n",
    "    \n",
    "    # Create subplots for multiple visualizations\n",
    "    fig, axes = plt.subplots(2, 2, figsize=(16, 12))\n",
    "    fig.suptitle('NBA Team Performance Analysis', fontsize=16, fontweight='bold')\n",
    "    \n",
    "    # 1. Win Rate vs Point Differential\n",
    "    scatter = axes[0,0].scatter(team_performance['point_differential'], \n",
    "                               team_performance['win_rate'],\n",
    "                               s=team_performance['games_played']*2,\n",
    "                               alpha=0.7, c=team_performance['avg_pts_scored'], \n",
    "                               cmap='viridis')\n",
    "    axes[0,0].set_xlabel('Point Differential (PPG)')\n",
    "    axes[0,0].set_ylabel('Win Rate')\n",
    "    axes[0,0].set_title('Win Rate vs Point Differential\\n(Size = Games Played, Color = Avg Points)')\n",
    "    \n",
    "    # Add team labels for extreme values\n",
    "    for idx, row in team_performance.iterrows():\n",
    "        if row['point_differential'] > 8 or row['point_differential'] < -8 or row['win_rate'] > 0.7 or row['win_rate'] < 0.3:\n",
    "            axes[0,0].annotate(row['team_name'], (row['point_differential'], row['win_rate']), \n",
    "                              xytext=(5, 5), textcoords='offset points', fontsize=8)\n",
    "    \n",
    "    # 2. Offensive vs Defensive Performance\n",
    "    axes[0,1].scatter(team_performance['avg_pts_scored'], \n",
    "                     team_performance['avg_pts_allowed'],\n",
    "                     s=100, alpha=0.7, c=team_performance['win_rate'], cmap='RdYlGn')\n",
    "    axes[0,1].set_xlabel('Average Points Scored')\n",
    "    axes[0,1].set_ylabel('Average Points Allowed')\n",
    "    axes[0,1].set_title('Offensive vs Defensive Performance\\n(Color = Win Rate)')\n",
    "    \n",
    "    # Add diagonal line for reference\n",
    "    min_pts = min(team_performance['avg_pts_scored'].min(), team_performance['avg_pts_allowed'].min())\n",
    "    max_pts = max(team_performance['avg_pts_scored'].max(), team_performance['avg_pts_allowed'].max())\n",
    "    axes[0,1].plot([min_pts, max_pts], [min_pts, max_pts], 'k--', alpha=0.5, label='Equal Offense/Defense')\n",
    "    axes[0,1].legend()\n",
    "    \n",
    "    # 3. Season vs Recent Performance\n",
    "    axes[1,0].scatter(team_performance['season_win_pct'], \n",
    "                     team_performance['recent_win_pct'],\n",
    "                     s=100, alpha=0.7)\n",
    "    axes[1,0].set_xlabel('Season Win Percentage')\n",
    "    axes[1,0].set_ylabel('Recent Win Percentage (Last 10)')\n",
    "    axes[1,0].set_title('Season vs Recent Performance')\n",
    "    \n",
    "    # Add diagonal line\n",
    "    axes[1,0].plot([0, 1], [0, 1], 'k--', alpha=0.5, label='Equal Performance')\n",
    "    axes[1,0].legend()\n",
    "    \n",
    "    # Identify teams performing above/below season average recently\n",
    "    improving = team_performance[team_performance['recent_win_pct'] > team_performance['season_win_pct'] + 0.1]\n",
    "    declining = team_performance[team_performance['recent_win_pct'] < team_performance['season_win_pct'] - 0.1]\n",
    "    \n",
    "    for idx, row in improving.iterrows():\n",
    "        axes[1,0].annotate(f\"{row['team_name']} ↑\", \n",
    "                          (row['season_win_pct'], row['recent_win_pct']), \n",
    "                          xytext=(5, 5), textcoords='offset points', \n",
    "                          fontsize=8, color='green')\n",
    "    \n",
    "    for idx, row in declining.iterrows():\n",
    "        axes[1,0].annotate(f\"{row['team_name']} ↓\", \n",
    "                          (row['season_win_pct'], row['recent_win_pct']), \n",
    "                          xytext=(5, -15), textcoords='offset points', \n",
    "                          fontsize=8, color='red')\n",
    "    \n",
    "    # 4. Home Game Advantage Distribution\n",
    "    team_performance_sorted = team_performance.sort_values('win_rate', ascending=True)\n",
    "    colors = ['red' if x < 0.4 else 'orange' if x < 0.6 else 'green' for x in team_performance_sorted['win_rate']]\n",
    "    \n",
    "    bars = axes[1,1].barh(range(len(team_performance_sorted)), \n",
    "                         team_performance_sorted['win_rate'],\n",
    "                         color=colors, alpha=0.7)\n",
    "    axes[1,1].set_yticks(range(len(team_performance_sorted)))\n",
    "    axes[1,1].set_yticklabels(team_performance_sorted['team_name'], fontsize=8)\n",
    "    axes[1,1].set_xlabel('Win Rate')\n",
    "    axes[1,1].set_title('Team Win Rates (Ranked)')\n",
    "    axes[1,1].axvline(x=0.5, color='black', linestyle='--', alpha=0.5, label='0.500')\n",
    "    axes[1,1].legend()\n",
    "    \n",
    "    plt.tight_layout()\n",
    "    plt.show()\n",
    "    \n",
    "    # Summary insights\n",
    "    print(f\"\\nKEY PERFORMANCE INSIGHTS:\")\n",
    "    print(\"-\" * 50)\n",
    "    best_team = team_performance.loc[team_performance['win_rate'].idxmax()]\n",
    "    worst_team = team_performance.loc[team_performance['win_rate'].idxmin()]\n",
    "    \n",
    "    print(f\"• Best Team: {best_team['team_name']} ({best_team['win_rate']:.1%} win rate)\")\n",
    "    print(f\"• Worst Team: {worst_team['team_name']} ({worst_team['win_rate']:.1%} win rate)\")\n",
    "    print(f\"• Teams improving recently: {len(improving)}\")\n",
    "    print(f\"• Teams declining recently: {len(declining)}\")\n",
    "    print(f\"• Average point differential: {team_performance['point_differential'].mean():+.1f}\")\n",
    "    \n",
    "else:\n",
    "    print(\"❌ No features data available for team performance visualization\")"
   ]
  },
  {
   "cell_type": "code",
   "execution_count": 15,
   "metadata": {},
   "outputs": [
    {
     "name": "stdout",
     "output_type": "stream",
     "text": [
      "INTERACTIVE TEAM PERFORMANCE DASHBOARD\n",
      "==================================================\n"
     ]
    },
    {
     "data": {
      "application/vnd.plotly.v1+json": {
       "config": {
        "plotlyServerURL": "https://plot.ly"
       },
       "data": [
        {
         "customdata": {
          "bdata": "AAAAQIlB4D8AAAAAf2rgPwisHFpkm1xAAAAAoMZL4z8AAABADALjP0jhehSuH1tAAAAAQDeJ4T8AAAAghevhP7x0kxgEFlxAAAAAANNN2j8AAADg+X7aP2ZmZmZmhlxAAAAAwKFF3j8AAADAnxrfP83MzMzM7FtAAAAAoPHS3T8AAACgGATePwwCK4cWMVtAAAAAYOf74T8AAACg8dLhP3e+nxovdVtAAAAAAClc4z8AAADg0CLjP83MzMzMzFtAAAAAYDm00D8AAAAgsHLQP9nO91PjVVxAAAAA4Pup4T8AAADgehTiP3E9Ctej8FtAAAAAQArX0z8AAABAMzPTP166SQwCI11AAAAAIIPA2j8AAAAgg8DaPxKDwMqh1VxAAAAAoBgE4j8AAAAAVOPhP+xRuB6Fe1tAAAAAAP7U4D8AAACgm8TgP/Cnxks38VtAAAAAQDMz4z8AAACAFtniP4/C9Shcx1tAAAAAIFyP4j8AAACg76fiP6JFtvP97FpAAAAAAH9q5D8AAADA9SjkPzEIrBxa/FtAAAAAQAis3D8AAAAAf2rcP3npJjEI7FxAAAAAoO+n3j8AAAAAVOPdP6jGSzeJMVxAAAAAYBKD4D8AAACgm8TgP/yp8dJNAltAAAAAwCCw2j8AAAAArBzaP57vp8ZLX1xAAAAAIN0k1j8AAAAgBFbWP1CNl24SI1xAAAAA4CYx5D8AAADgJjHkP1CNl24SM1tAAAAAoEOL5D8AAABA4XrkPyuHFtnOZ1tAAAAAwB6F2z8AAACgRbbbP3WTGARW7lxAAAAAAAAAAAAAAAAAAAD4fwAAAAAAMGBAAAAAgD0K3z8AAAAg2/neP7x0kxgEDl1AAAAAoJvE2D8AAADAdJPYP8P1KFyP+lxAAAAAAAAAAAAAAAAAAAD4fwAAAAAAQGVAAAAAAAAA8D8AAAAAAAD4fwAAAAAA4GVAAAAAAAAA4D8AAAAAAAD4fwAAAAAA4GRAAAAAQN9P4T8AAABguB7hP2iR7Xw/VVtAAAAAgJdu4j8AAABgZmbiP1K4HoXryVtAAAAAIFyP2j8AAAAAqvHaP5MYBFYOzVxA",
          "dtype": "f8",
          "shape": "34, 3"
         },
         "hovertemplate": "<b>%{hovertext}</b><br><br>Point Differential (PPG)=%{x}<br>Win Rate=%{y}<br>games_played=%{marker.size}<br>season_win_pct=%{customdata[0]}<br>recent_win_pct=%{customdata[1]}<br>avg_pts_allowed=%{customdata[2]}<br>Avg Points Scored=%{marker.color}<extra></extra>",
         "hovertext": [
          "Atlanta Hawks",
          "Boston Celtics",
          "Brooklyn Nets",
          "Charlotte Hornets",
          "Chicago Bulls",
          "Cleveland Cavaliers",
          "Dallas Mavericks",
          "Denver Nuggets",
          "Detroit Pistons",
          "Golden State Warriors",
          "Houston Rockets",
          "Indiana Pacers",
          "LA Clippers",
          "Los Angeles Lakers",
          "Memphis Grizzlies",
          "Miami Heat",
          "Milwaukee Bucks",
          "Minnesota Timberwolves",
          "New Orleans Pelicans",
          "New York Knicks",
          "Oklahoma City Thunder",
          "Orlando Magic",
          "Philadelphia 76ers",
          "Phoenix Suns",
          "Portland Trail Blazers",
          "Ra'anana Maccabi Ra'anana",
          "Sacramento Kings",
          "San Antonio Spurs",
          "Team Durant",
          "Team Giannis",
          "Team LeBron",
          "Toronto Raptors",
          "Utah Jazz",
          "Washington Wizards"
         ],
         "legendgroup": "",
         "marker": {
          "color": {
           "bdata": "Gy/dJAaRXEDTTWIQWFlcQK5H4XoUZlxAsp3vp8ajW0DsUbgehdNbQOF6FK5H8VpAEoPAyqEFXEDpJjEIrHRcQBBYObTItlpAy6FFtvNdXEA1XrpJDLJbQHWTGARWTlxAI9v5fmocXEDXo3A9ChdcQKrx0k1iuFxARIts5/tJW0BI4XoUrgddQEw3iUFglVxAAiuHFtlWXEDn+6nx0kVbQB+F61G4XltAPzVeukm8WkCDwMqhRQZcQMHKoUW2a1xAEFg5tMgGXEAAAAAAAMBUQBsv3SQGuVxAL90kBoENXEAAAAAAAMBiQAAAAAAAAGdAAAAAAACQZUBvEoPAytlbQKabxCCwulxA7FG4HoUTXEA=",
           "dtype": "f8"
          },
          "coloraxis": "coloraxis",
          "size": {
           "bdata": "NgFhATYBFgEcAR4BPwFXARgBOgEqASIBQQFNATkBYwFRASMBIwEpAScBJgFCAU4BLAEDACUBIAEDAAMABgAwATYBJAE=",
           "dtype": "i2"
          },
          "sizemode": "area",
          "sizeref": 0.8875,
          "symbol": "circle"
         },
         "mode": "markers",
         "name": "",
         "orientation": "v",
         "showlegend": false,
         "type": "scatter",
         "x": {
          "bdata": "ANr5fmq8xL+wyHa+n5oTQIC8dJMYBPQ/gBbZzvdTDMAA4XoUrkfZv4CVQ4ts5++/YJMYBFYOAkCAQ4ts5/sEQJBs5/up8RnAgBbZzvdT+z+QwvUoXA8XwKDz/dR46QDA4CYxCKwcBECA8/3UeOniP2DjpZvEIA5AgGiR7Xw/9z9wke18P7UQQECLbOf7qfW/AC2yne+n4j/AehSuR+HwP/Cnxks3CRDAEIGVQ4tsFsBgZmZmZmYKQGA5tMh2PhBAoGzn+6nxDMAAAAAAAEBHwEBoke18P/W/gBKDwMqhDcAAAAAAAAA0wAAAAAAAACJAAAAAAAAAFkDgILByaJEAQIBqvHSTGA5A4NR46SYxB8A=",
          "dtype": "f8"
         },
         "xaxis": "x",
         "y": {
          "bdata": "/tR46SYx4D+LbOf7qfHiP/Cnxks3ieE/5dAi2/l+2j8MAiuHFtneP8UgsHJokd0/RIts5/up4T+yne+nxkvjP6abxCCwctA/7nw/NV664T8tsp3vp8bTP+Olm8QgsNo/QmDl0CLb4T+iRbbz/dTgPzeJQWDl0OI/EFg5tMh24j/VeOkmMQjkPycxCKwcWtw/vp8aL90k3j/P91PjpZvgP+XQItv5fto/Di2yne+n1j+q8dJNYhDkP1K4HoXrUeQ/hxbZzvdT2z8AAAAAAAAAAGIQWDm0yN4/pHA9Ctej2D8AAAAAAAAAAPLSTWIQWOU/8tJNYhBY5T/0/dR46SbhP5HtfD81XuI/jZduEoPA2j8=",
          "dtype": "f8"
         },
         "yaxis": "y"
        }
       ],
       "layout": {
        "coloraxis": {
         "colorbar": {
          "title": {
           "text": "Avg Points Scored"
          }
         },
         "colorscale": [
          [
           0,
           "#440154"
          ],
          [
           0.1111111111111111,
           "#482878"
          ],
          [
           0.2222222222222222,
           "#3e4989"
          ],
          [
           0.3333333333333333,
           "#31688e"
          ],
          [
           0.4444444444444444,
           "#26828e"
          ],
          [
           0.5555555555555556,
           "#1f9e89"
          ],
          [
           0.6666666666666666,
           "#35b779"
          ],
          [
           0.7777777777777778,
           "#6ece58"
          ],
          [
           0.8888888888888888,
           "#b5de2b"
          ],
          [
           1,
           "#fde725"
          ]
         ]
        },
        "height": 600,
        "legend": {
         "itemsizing": "constant",
         "tracegroupgap": 0
        },
        "showlegend": true,
        "template": {
         "data": {
          "bar": [
           {
            "error_x": {
             "color": "#2a3f5f"
            },
            "error_y": {
             "color": "#2a3f5f"
            },
            "marker": {
             "line": {
              "color": "#E5ECF6",
              "width": 0.5
             },
             "pattern": {
              "fillmode": "overlay",
              "size": 10,
              "solidity": 0.2
             }
            },
            "type": "bar"
           }
          ],
          "barpolar": [
           {
            "marker": {
             "line": {
              "color": "#E5ECF6",
              "width": 0.5
             },
             "pattern": {
              "fillmode": "overlay",
              "size": 10,
              "solidity": 0.2
             }
            },
            "type": "barpolar"
           }
          ],
          "carpet": [
           {
            "aaxis": {
             "endlinecolor": "#2a3f5f",
             "gridcolor": "white",
             "linecolor": "white",
             "minorgridcolor": "white",
             "startlinecolor": "#2a3f5f"
            },
            "baxis": {
             "endlinecolor": "#2a3f5f",
             "gridcolor": "white",
             "linecolor": "white",
             "minorgridcolor": "white",
             "startlinecolor": "#2a3f5f"
            },
            "type": "carpet"
           }
          ],
          "choropleth": [
           {
            "colorbar": {
             "outlinewidth": 0,
             "ticks": ""
            },
            "type": "choropleth"
           }
          ],
          "contour": [
           {
            "colorbar": {
             "outlinewidth": 0,
             "ticks": ""
            },
            "colorscale": [
             [
              0,
              "#0d0887"
             ],
             [
              0.1111111111111111,
              "#46039f"
             ],
             [
              0.2222222222222222,
              "#7201a8"
             ],
             [
              0.3333333333333333,
              "#9c179e"
             ],
             [
              0.4444444444444444,
              "#bd3786"
             ],
             [
              0.5555555555555556,
              "#d8576b"
             ],
             [
              0.6666666666666666,
              "#ed7953"
             ],
             [
              0.7777777777777778,
              "#fb9f3a"
             ],
             [
              0.8888888888888888,
              "#fdca26"
             ],
             [
              1,
              "#f0f921"
             ]
            ],
            "type": "contour"
           }
          ],
          "contourcarpet": [
           {
            "colorbar": {
             "outlinewidth": 0,
             "ticks": ""
            },
            "type": "contourcarpet"
           }
          ],
          "heatmap": [
           {
            "colorbar": {
             "outlinewidth": 0,
             "ticks": ""
            },
            "colorscale": [
             [
              0,
              "#0d0887"
             ],
             [
              0.1111111111111111,
              "#46039f"
             ],
             [
              0.2222222222222222,
              "#7201a8"
             ],
             [
              0.3333333333333333,
              "#9c179e"
             ],
             [
              0.4444444444444444,
              "#bd3786"
             ],
             [
              0.5555555555555556,
              "#d8576b"
             ],
             [
              0.6666666666666666,
              "#ed7953"
             ],
             [
              0.7777777777777778,
              "#fb9f3a"
             ],
             [
              0.8888888888888888,
              "#fdca26"
             ],
             [
              1,
              "#f0f921"
             ]
            ],
            "type": "heatmap"
           }
          ],
          "histogram": [
           {
            "marker": {
             "pattern": {
              "fillmode": "overlay",
              "size": 10,
              "solidity": 0.2
             }
            },
            "type": "histogram"
           }
          ],
          "histogram2d": [
           {
            "colorbar": {
             "outlinewidth": 0,
             "ticks": ""
            },
            "colorscale": [
             [
              0,
              "#0d0887"
             ],
             [
              0.1111111111111111,
              "#46039f"
             ],
             [
              0.2222222222222222,
              "#7201a8"
             ],
             [
              0.3333333333333333,
              "#9c179e"
             ],
             [
              0.4444444444444444,
              "#bd3786"
             ],
             [
              0.5555555555555556,
              "#d8576b"
             ],
             [
              0.6666666666666666,
              "#ed7953"
             ],
             [
              0.7777777777777778,
              "#fb9f3a"
             ],
             [
              0.8888888888888888,
              "#fdca26"
             ],
             [
              1,
              "#f0f921"
             ]
            ],
            "type": "histogram2d"
           }
          ],
          "histogram2dcontour": [
           {
            "colorbar": {
             "outlinewidth": 0,
             "ticks": ""
            },
            "colorscale": [
             [
              0,
              "#0d0887"
             ],
             [
              0.1111111111111111,
              "#46039f"
             ],
             [
              0.2222222222222222,
              "#7201a8"
             ],
             [
              0.3333333333333333,
              "#9c179e"
             ],
             [
              0.4444444444444444,
              "#bd3786"
             ],
             [
              0.5555555555555556,
              "#d8576b"
             ],
             [
              0.6666666666666666,
              "#ed7953"
             ],
             [
              0.7777777777777778,
              "#fb9f3a"
             ],
             [
              0.8888888888888888,
              "#fdca26"
             ],
             [
              1,
              "#f0f921"
             ]
            ],
            "type": "histogram2dcontour"
           }
          ],
          "mesh3d": [
           {
            "colorbar": {
             "outlinewidth": 0,
             "ticks": ""
            },
            "type": "mesh3d"
           }
          ],
          "parcoords": [
           {
            "line": {
             "colorbar": {
              "outlinewidth": 0,
              "ticks": ""
             }
            },
            "type": "parcoords"
           }
          ],
          "pie": [
           {
            "automargin": true,
            "type": "pie"
           }
          ],
          "scatter": [
           {
            "fillpattern": {
             "fillmode": "overlay",
             "size": 10,
             "solidity": 0.2
            },
            "type": "scatter"
           }
          ],
          "scatter3d": [
           {
            "line": {
             "colorbar": {
              "outlinewidth": 0,
              "ticks": ""
             }
            },
            "marker": {
             "colorbar": {
              "outlinewidth": 0,
              "ticks": ""
             }
            },
            "type": "scatter3d"
           }
          ],
          "scattercarpet": [
           {
            "marker": {
             "colorbar": {
              "outlinewidth": 0,
              "ticks": ""
             }
            },
            "type": "scattercarpet"
           }
          ],
          "scattergeo": [
           {
            "marker": {
             "colorbar": {
              "outlinewidth": 0,
              "ticks": ""
             }
            },
            "type": "scattergeo"
           }
          ],
          "scattergl": [
           {
            "marker": {
             "colorbar": {
              "outlinewidth": 0,
              "ticks": ""
             }
            },
            "type": "scattergl"
           }
          ],
          "scattermap": [
           {
            "marker": {
             "colorbar": {
              "outlinewidth": 0,
              "ticks": ""
             }
            },
            "type": "scattermap"
           }
          ],
          "scattermapbox": [
           {
            "marker": {
             "colorbar": {
              "outlinewidth": 0,
              "ticks": ""
             }
            },
            "type": "scattermapbox"
           }
          ],
          "scatterpolar": [
           {
            "marker": {
             "colorbar": {
              "outlinewidth": 0,
              "ticks": ""
             }
            },
            "type": "scatterpolar"
           }
          ],
          "scatterpolargl": [
           {
            "marker": {
             "colorbar": {
              "outlinewidth": 0,
              "ticks": ""
             }
            },
            "type": "scatterpolargl"
           }
          ],
          "scatterternary": [
           {
            "marker": {
             "colorbar": {
              "outlinewidth": 0,
              "ticks": ""
             }
            },
            "type": "scatterternary"
           }
          ],
          "surface": [
           {
            "colorbar": {
             "outlinewidth": 0,
             "ticks": ""
            },
            "colorscale": [
             [
              0,
              "#0d0887"
             ],
             [
              0.1111111111111111,
              "#46039f"
             ],
             [
              0.2222222222222222,
              "#7201a8"
             ],
             [
              0.3333333333333333,
              "#9c179e"
             ],
             [
              0.4444444444444444,
              "#bd3786"
             ],
             [
              0.5555555555555556,
              "#d8576b"
             ],
             [
              0.6666666666666666,
              "#ed7953"
             ],
             [
              0.7777777777777778,
              "#fb9f3a"
             ],
             [
              0.8888888888888888,
              "#fdca26"
             ],
             [
              1,
              "#f0f921"
             ]
            ],
            "type": "surface"
           }
          ],
          "table": [
           {
            "cells": {
             "fill": {
              "color": "#EBF0F8"
             },
             "line": {
              "color": "white"
             }
            },
            "header": {
             "fill": {
              "color": "#C8D4E3"
             },
             "line": {
              "color": "white"
             }
            },
            "type": "table"
           }
          ]
         },
         "layout": {
          "annotationdefaults": {
           "arrowcolor": "#2a3f5f",
           "arrowhead": 0,
           "arrowwidth": 1
          },
          "autotypenumbers": "strict",
          "coloraxis": {
           "colorbar": {
            "outlinewidth": 0,
            "ticks": ""
           }
          },
          "colorscale": {
           "diverging": [
            [
             0,
             "#8e0152"
            ],
            [
             0.1,
             "#c51b7d"
            ],
            [
             0.2,
             "#de77ae"
            ],
            [
             0.3,
             "#f1b6da"
            ],
            [
             0.4,
             "#fde0ef"
            ],
            [
             0.5,
             "#f7f7f7"
            ],
            [
             0.6,
             "#e6f5d0"
            ],
            [
             0.7,
             "#b8e186"
            ],
            [
             0.8,
             "#7fbc41"
            ],
            [
             0.9,
             "#4d9221"
            ],
            [
             1,
             "#276419"
            ]
           ],
           "sequential": [
            [
             0,
             "#0d0887"
            ],
            [
             0.1111111111111111,
             "#46039f"
            ],
            [
             0.2222222222222222,
             "#7201a8"
            ],
            [
             0.3333333333333333,
             "#9c179e"
            ],
            [
             0.4444444444444444,
             "#bd3786"
            ],
            [
             0.5555555555555556,
             "#d8576b"
            ],
            [
             0.6666666666666666,
             "#ed7953"
            ],
            [
             0.7777777777777778,
             "#fb9f3a"
            ],
            [
             0.8888888888888888,
             "#fdca26"
            ],
            [
             1,
             "#f0f921"
            ]
           ],
           "sequentialminus": [
            [
             0,
             "#0d0887"
            ],
            [
             0.1111111111111111,
             "#46039f"
            ],
            [
             0.2222222222222222,
             "#7201a8"
            ],
            [
             0.3333333333333333,
             "#9c179e"
            ],
            [
             0.4444444444444444,
             "#bd3786"
            ],
            [
             0.5555555555555556,
             "#d8576b"
            ],
            [
             0.6666666666666666,
             "#ed7953"
            ],
            [
             0.7777777777777778,
             "#fb9f3a"
            ],
            [
             0.8888888888888888,
             "#fdca26"
            ],
            [
             1,
             "#f0f921"
            ]
           ]
          },
          "colorway": [
           "#636efa",
           "#EF553B",
           "#00cc96",
           "#ab63fa",
           "#FFA15A",
           "#19d3f3",
           "#FF6692",
           "#B6E880",
           "#FF97FF",
           "#FECB52"
          ],
          "font": {
           "color": "#2a3f5f"
          },
          "geo": {
           "bgcolor": "white",
           "lakecolor": "white",
           "landcolor": "#E5ECF6",
           "showlakes": true,
           "showland": true,
           "subunitcolor": "white"
          },
          "hoverlabel": {
           "align": "left"
          },
          "hovermode": "closest",
          "mapbox": {
           "style": "light"
          },
          "paper_bgcolor": "white",
          "plot_bgcolor": "#E5ECF6",
          "polar": {
           "angularaxis": {
            "gridcolor": "white",
            "linecolor": "white",
            "ticks": ""
           },
           "bgcolor": "#E5ECF6",
           "radialaxis": {
            "gridcolor": "white",
            "linecolor": "white",
            "ticks": ""
           }
          },
          "scene": {
           "xaxis": {
            "backgroundcolor": "#E5ECF6",
            "gridcolor": "white",
            "gridwidth": 2,
            "linecolor": "white",
            "showbackground": true,
            "ticks": "",
            "zerolinecolor": "white"
           },
           "yaxis": {
            "backgroundcolor": "#E5ECF6",
            "gridcolor": "white",
            "gridwidth": 2,
            "linecolor": "white",
            "showbackground": true,
            "ticks": "",
            "zerolinecolor": "white"
           },
           "zaxis": {
            "backgroundcolor": "#E5ECF6",
            "gridcolor": "white",
            "gridwidth": 2,
            "linecolor": "white",
            "showbackground": true,
            "ticks": "",
            "zerolinecolor": "white"
           }
          },
          "shapedefaults": {
           "line": {
            "color": "#2a3f5f"
           }
          },
          "ternary": {
           "aaxis": {
            "gridcolor": "white",
            "linecolor": "white",
            "ticks": ""
           },
           "baxis": {
            "gridcolor": "white",
            "linecolor": "white",
            "ticks": ""
           },
           "bgcolor": "#E5ECF6",
           "caxis": {
            "gridcolor": "white",
            "linecolor": "white",
            "ticks": ""
           }
          },
          "title": {
           "x": 0.05
          },
          "xaxis": {
           "automargin": true,
           "gridcolor": "white",
           "linecolor": "white",
           "ticks": "",
           "title": {
            "standoff": 15
           },
           "zerolinecolor": "white",
           "zerolinewidth": 2
          },
          "yaxis": {
           "automargin": true,
           "gridcolor": "white",
           "linecolor": "white",
           "ticks": "",
           "title": {
            "standoff": 15
           },
           "zerolinecolor": "white",
           "zerolinewidth": 2
          }
         }
        },
        "title": {
         "text": "Team Performance: Win Rate vs Point Differential"
        },
        "xaxis": {
         "anchor": "y",
         "domain": [
          0,
          1
         ],
         "title": {
          "text": "Point Differential (PPG)"
         }
        },
        "yaxis": {
         "anchor": "x",
         "domain": [
          0,
          1
         ],
         "title": {
          "text": "Win Rate"
         }
        }
       }
      }
     },
     "metadata": {},
     "output_type": "display_data"
    },
    {
     "data": {
      "application/vnd.plotly.v1+json": {
       "config": {
        "plotlyServerURL": "https://plot.ly"
       },
       "data": [
        {
         "marker": {
          "color": {
           "bdata": "/tR46SYx4D+LbOf7qfHiP/Cnxks3ieE/5dAi2/l+2j8MAiuHFtneP8UgsHJokd0/RIts5/up4T+yne+nxkvjP6abxCCwctA/7nw/NV664T8tsp3vp8bTP+Olm8QgsNo/QmDl0CLb4T+iRbbz/dTgPzeJQWDl0OI/EFg5tMh24j/VeOkmMQjkPycxCKwcWtw/vp8aL90k3j/P91PjpZvgP+XQItv5fto/Di2yne+n1j+q8dJNYhDkP1K4HoXrUeQ/hxbZzvdT2z8AAAAAAAAAAGIQWDm0yN4/pHA9Ctej2D8AAAAAAAAAAPLSTWIQWOU/8tJNYhBY5T/0/dR46SbhP5HtfD81XuI/jZduEoPA2j8=",
           "dtype": "f8"
          },
          "colorscale": [
           [
            0,
            "rgb(165,0,38)"
           ],
           [
            0.1,
            "rgb(215,48,39)"
           ],
           [
            0.2,
            "rgb(244,109,67)"
           ],
           [
            0.3,
            "rgb(253,174,97)"
           ],
           [
            0.4,
            "rgb(254,224,139)"
           ],
           [
            0.5,
            "rgb(255,255,191)"
           ],
           [
            0.6,
            "rgb(217,239,139)"
           ],
           [
            0.7,
            "rgb(166,217,106)"
           ],
           [
            0.8,
            "rgb(102,189,99)"
           ],
           [
            0.9,
            "rgb(26,152,80)"
           ],
           [
            1,
            "rgb(0,104,55)"
           ]
          ],
          "showscale": true,
          "size": 10
         },
         "mode": "markers+text",
         "name": "Teams",
         "text": [
          "Atlanta Hawks",
          "Boston Celtics",
          "Brooklyn Nets",
          "Charlotte Hornets",
          "Chicago Bulls",
          "Cleveland Cavaliers",
          "Dallas Mavericks",
          "Denver Nuggets",
          "Detroit Pistons",
          "Golden State Warriors",
          "Houston Rockets",
          "Indiana Pacers",
          "LA Clippers",
          "Los Angeles Lakers",
          "Memphis Grizzlies",
          "Miami Heat",
          "Milwaukee Bucks",
          "Minnesota Timberwolves",
          "New Orleans Pelicans",
          "New York Knicks",
          "Oklahoma City Thunder",
          "Orlando Magic",
          "Philadelphia 76ers",
          "Phoenix Suns",
          "Portland Trail Blazers",
          "Ra'anana Maccabi Ra'anana",
          "Sacramento Kings",
          "San Antonio Spurs",
          "Team Durant",
          "Team Giannis",
          "Team LeBron",
          "Toronto Raptors",
          "Utah Jazz",
          "Washington Wizards"
         ],
         "textposition": "top center",
         "type": "scatter",
         "x": {
          "bdata": "Gy/dJAaRXEDTTWIQWFlcQK5H4XoUZlxAsp3vp8ajW0DsUbgehdNbQOF6FK5H8VpAEoPAyqEFXEDpJjEIrHRcQBBYObTItlpAy6FFtvNdXEA1XrpJDLJbQHWTGARWTlxAI9v5fmocXEDXo3A9ChdcQKrx0k1iuFxARIts5/tJW0BI4XoUrgddQEw3iUFglVxAAiuHFtlWXEDn+6nx0kVbQB+F61G4XltAPzVeukm8WkCDwMqhRQZcQMHKoUW2a1xAEFg5tMgGXEAAAAAAAMBUQBsv3SQGuVxAL90kBoENXEAAAAAAAMBiQAAAAAAAAGdAAAAAAACQZUBvEoPAytlbQKabxCCwulxA7FG4HoUTXEA=",
          "dtype": "f8"
         },
         "xaxis": "x",
         "y": {
          "bdata": "CKwcWmSbXEBI4XoUrh9bQLx0kxgEFlxAZmZmZmaGXEDNzMzMzOxbQAwCK4cWMVtAd76fGi91W0DNzMzMzMxbQNnO91PjVVxAcT0K16PwW0BeukkMAiNdQBKDwMqh1VxA7FG4HoV7W0Dwp8ZLN/FbQI/C9Shcx1tAokW28/3sWkAxCKwcWvxbQHnpJjEI7FxAqMZLN4kxXED8qfHSTQJbQJ7vp8ZLX1xAUI2XbhIjXEBQjZduEjNbQCuHFtnOZ1tAdZMYBFbuXEAAAAAAADBgQLx0kxgEDl1Aw/UoXI/6XEAAAAAAAEBlQAAAAAAA4GVAAAAAAADgZEBoke18P1VbQFK4HoXryVtAkxgEVg7NXEA=",
          "dtype": "f8"
         },
         "yaxis": "y"
        },
        {
         "marker": {
          "size": 8
         },
         "mode": "markers+text",
         "name": "Performance",
         "text": [
          "Atlanta Hawks",
          "Boston Celtics",
          "Brooklyn Nets",
          "Charlotte Hornets",
          "Chicago Bulls",
          "Cleveland Cavaliers",
          "Dallas Mavericks",
          "Denver Nuggets",
          "Detroit Pistons",
          "Golden State Warriors",
          "Houston Rockets",
          "Indiana Pacers",
          "LA Clippers",
          "Los Angeles Lakers",
          "Memphis Grizzlies",
          "Miami Heat",
          "Milwaukee Bucks",
          "Minnesota Timberwolves",
          "New Orleans Pelicans",
          "New York Knicks",
          "Oklahoma City Thunder",
          "Orlando Magic",
          "Philadelphia 76ers",
          "Phoenix Suns",
          "Portland Trail Blazers",
          "Ra'anana Maccabi Ra'anana",
          "Sacramento Kings",
          "San Antonio Spurs",
          "Team Durant",
          "Team Giannis",
          "Team LeBron",
          "Toronto Raptors",
          "Utah Jazz",
          "Washington Wizards"
         ],
         "textposition": "top center",
         "type": "scatter",
         "x": {
          "bdata": "SgwCPzVeGj+6SQw/mG7SPg4t8j6Nl+4+O98PP0jhGj/LoYU+308NP1K4nj4ZBNY+xSAQP/CnBj+amRk/4XoUP/hTIz9CYOU+fT/1PpMYBD8GgdU+6SaxPjeJIT8dWiQ/9ijcPgAAAADsUfg+3STGPgAAAAAAAIA/AAAAP/p+Cj+8dBM/4XrUPg==",
          "dtype": "f4"
         },
         "xaxis": "x2",
         "y": {
          "bdata": "+FMDP2IQGD8pXA8/z/fTPv7U+D7FIPA+jZcOP4cWGT+BlYM+16MQP5qZmT4ZBNY+oBoPP90kBj+0yBY/fT8VP65HIT/4U+M+oBrvPt0kBj9g5dA+IbCyPjeJIT8K1yM/LbLdPgAAwH/Zzvc+ppvEPgAAwH8AAMB/AADAf8P1CD8zMxM/UI3XPg==",
          "dtype": "f4"
         },
         "yaxis": "y2"
        },
        {
         "marker": {
          "color": [
           "red",
           "red",
           "red",
           "red",
           "red",
           "red",
           "orange",
           "orange",
           "orange",
           "orange",
           "orange",
           "orange",
           "orange",
           "orange",
           "orange",
           "orange",
           "orange",
           "orange",
           "orange",
           "orange",
           "orange",
           "orange",
           "orange",
           "orange",
           "orange",
           "orange",
           "orange",
           "orange",
           "green",
           "green",
           "green",
           "green",
           "green",
           "green"
          ]
         },
         "name": "Win Rate",
         "orientation": "h",
         "type": "bar",
         "x": {
          "bdata": "AAAAAAAAAAAAAAAAAAAAAKabxCCwctA/LbKd76fG0z8OLbKd76fWP6RwPQrXo9g/5dAi2/l+2j/l0CLb+X7aP+Olm8QgsNo/jZduEoPA2j+HFtnO91PbPycxCKwcWtw/xSCwcmiR3T++nxov3STeP2IQWDm0yN4/DAIrhxbZ3j/+1HjpJjHgP8/3U+Olm+A/okW28/3U4D/0/dR46SbhP/Cnxks3ieE/RIts5/up4T/ufD81XrrhP0Jg5dAi2+E/ke18PzVe4j8QWDm0yHbiPzeJQWDl0OI/i2zn+6nx4j+yne+nxkvjP9V46SYxCOQ/qvHSTWIQ5D9SuB6F61HkP/LSTWIQWOU/8tJNYhBY5T8=",
          "dtype": "f8"
         },
         "xaxis": "x3",
         "y": [
          "Team Durant",
          "Ra'anana Maccabi Ra'anana",
          "Detroit Pistons",
          "Houston Rockets",
          "Orlando Magic",
          "San Antonio Spurs",
          "Charlotte Hornets",
          "Oklahoma City Thunder",
          "Indiana Pacers",
          "Washington Wizards",
          "Portland Trail Blazers",
          "Minnesota Timberwolves",
          "Cleveland Cavaliers",
          "New Orleans Pelicans",
          "Sacramento Kings",
          "Chicago Bulls",
          "Atlanta Hawks",
          "New York Knicks",
          "Los Angeles Lakers",
          "Toronto Raptors",
          "Brooklyn Nets",
          "Dallas Mavericks",
          "Golden State Warriors",
          "LA Clippers",
          "Utah Jazz",
          "Miami Heat",
          "Memphis Grizzlies",
          "Boston Celtics",
          "Denver Nuggets",
          "Milwaukee Bucks",
          "Philadelphia 76ers",
          "Phoenix Suns",
          "Team Giannis",
          "Team LeBron"
         ],
         "yaxis": "y3"
        },
        {
         "marker": {
          "color": [
           "red",
           "red",
           "red",
           "red",
           "red",
           "orange",
           "orange",
           "orange",
           "orange",
           "orange",
           "orange",
           "orange",
           "orange",
           "orange",
           "orange",
           "orange",
           "lightgreen",
           "lightgreen",
           "lightgreen",
           "lightgreen",
           "lightgreen",
           "lightgreen",
           "lightgreen",
           "lightgreen",
           "lightgreen",
           "lightgreen",
           "lightgreen",
           "lightgreen",
           "lightgreen",
           "lightgreen",
           "lightgreen",
           "lightgreen",
           "green",
           "green"
          ]
         },
         "name": "Point Diff",
         "orientation": "h",
         "type": "bar",
         "x": {
          "bdata": "AAAAAABAR8AAAAAAAAA0wJBs5/up8RnAkML1KFwPF8AQgZVDi2wWwPCnxks3CRDAgBKDwMqhDcCgbOf7qfEMwIAW2c73UwzA4NR46SYxB8Cg8/3UeOkAwECLbOf7qfW/QGiR7Xw/9b+AlUOLbOfvvwDhehSuR9m/ANr5fmq8xL8ALbKd76fiP4Dz/dR46eI/wHoUrkfh8D+AvHSTGAT0P4Boke18P/c/gBbZzvdT+z/gILByaJEAQGCTGARWDgJA4CYxCKwcBECAQ4ts5/sEQGBmZmZmZgpAgGq8dJMYDkBg46WbxCAOQGA5tMh2PhBAcJHtfD+1EECwyHa+n5oTQAAAAAAAABZAAAAAAAAAIkA=",
          "dtype": "f8"
         },
         "xaxis": "x4",
         "y": [
          "Ra'anana Maccabi Ra'anana",
          "Team Durant",
          "Detroit Pistons",
          "Houston Rockets",
          "Orlando Magic",
          "Oklahoma City Thunder",
          "San Antonio Spurs",
          "Portland Trail Blazers",
          "Charlotte Hornets",
          "Washington Wizards",
          "Indiana Pacers",
          "Minnesota Timberwolves",
          "Sacramento Kings",
          "Cleveland Cavaliers",
          "Chicago Bulls",
          "Atlanta Hawks",
          "New Orleans Pelicans",
          "Los Angeles Lakers",
          "New York Knicks",
          "Brooklyn Nets",
          "Miami Heat",
          "Golden State Warriors",
          "Toronto Raptors",
          "Dallas Mavericks",
          "LA Clippers",
          "Denver Nuggets",
          "Philadelphia 76ers",
          "Utah Jazz",
          "Memphis Grizzlies",
          "Phoenix Suns",
          "Milwaukee Bucks",
          "Boston Celtics",
          "Team LeBron",
          "Team Giannis"
         ],
         "yaxis": "y4"
        }
       ],
       "layout": {
        "annotations": [
         {
          "font": {
           "size": 16
          },
          "showarrow": false,
          "text": "Offensive vs Defensive Rating",
          "x": 0.225,
          "xanchor": "center",
          "xref": "paper",
          "y": 1,
          "yanchor": "bottom",
          "yref": "paper"
         },
         {
          "font": {
           "size": 16
          },
          "showarrow": false,
          "text": "Season vs Recent Form",
          "x": 0.775,
          "xanchor": "center",
          "xref": "paper",
          "y": 1,
          "yanchor": "bottom",
          "yref": "paper"
         },
         {
          "font": {
           "size": 16
          },
          "showarrow": false,
          "text": "Win Rate Distribution",
          "x": 0.225,
          "xanchor": "center",
          "xref": "paper",
          "y": 0.375,
          "yanchor": "bottom",
          "yref": "paper"
         },
         {
          "font": {
           "size": 16
          },
          "showarrow": false,
          "text": "Point Differential Ranking",
          "x": 0.775,
          "xanchor": "center",
          "xref": "paper",
          "y": 0.375,
          "yanchor": "bottom",
          "yref": "paper"
         }
        ],
        "height": 800,
        "showlegend": false,
        "template": {
         "data": {
          "bar": [
           {
            "error_x": {
             "color": "#2a3f5f"
            },
            "error_y": {
             "color": "#2a3f5f"
            },
            "marker": {
             "line": {
              "color": "#E5ECF6",
              "width": 0.5
             },
             "pattern": {
              "fillmode": "overlay",
              "size": 10,
              "solidity": 0.2
             }
            },
            "type": "bar"
           }
          ],
          "barpolar": [
           {
            "marker": {
             "line": {
              "color": "#E5ECF6",
              "width": 0.5
             },
             "pattern": {
              "fillmode": "overlay",
              "size": 10,
              "solidity": 0.2
             }
            },
            "type": "barpolar"
           }
          ],
          "carpet": [
           {
            "aaxis": {
             "endlinecolor": "#2a3f5f",
             "gridcolor": "white",
             "linecolor": "white",
             "minorgridcolor": "white",
             "startlinecolor": "#2a3f5f"
            },
            "baxis": {
             "endlinecolor": "#2a3f5f",
             "gridcolor": "white",
             "linecolor": "white",
             "minorgridcolor": "white",
             "startlinecolor": "#2a3f5f"
            },
            "type": "carpet"
           }
          ],
          "choropleth": [
           {
            "colorbar": {
             "outlinewidth": 0,
             "ticks": ""
            },
            "type": "choropleth"
           }
          ],
          "contour": [
           {
            "colorbar": {
             "outlinewidth": 0,
             "ticks": ""
            },
            "colorscale": [
             [
              0,
              "#0d0887"
             ],
             [
              0.1111111111111111,
              "#46039f"
             ],
             [
              0.2222222222222222,
              "#7201a8"
             ],
             [
              0.3333333333333333,
              "#9c179e"
             ],
             [
              0.4444444444444444,
              "#bd3786"
             ],
             [
              0.5555555555555556,
              "#d8576b"
             ],
             [
              0.6666666666666666,
              "#ed7953"
             ],
             [
              0.7777777777777778,
              "#fb9f3a"
             ],
             [
              0.8888888888888888,
              "#fdca26"
             ],
             [
              1,
              "#f0f921"
             ]
            ],
            "type": "contour"
           }
          ],
          "contourcarpet": [
           {
            "colorbar": {
             "outlinewidth": 0,
             "ticks": ""
            },
            "type": "contourcarpet"
           }
          ],
          "heatmap": [
           {
            "colorbar": {
             "outlinewidth": 0,
             "ticks": ""
            },
            "colorscale": [
             [
              0,
              "#0d0887"
             ],
             [
              0.1111111111111111,
              "#46039f"
             ],
             [
              0.2222222222222222,
              "#7201a8"
             ],
             [
              0.3333333333333333,
              "#9c179e"
             ],
             [
              0.4444444444444444,
              "#bd3786"
             ],
             [
              0.5555555555555556,
              "#d8576b"
             ],
             [
              0.6666666666666666,
              "#ed7953"
             ],
             [
              0.7777777777777778,
              "#fb9f3a"
             ],
             [
              0.8888888888888888,
              "#fdca26"
             ],
             [
              1,
              "#f0f921"
             ]
            ],
            "type": "heatmap"
           }
          ],
          "histogram": [
           {
            "marker": {
             "pattern": {
              "fillmode": "overlay",
              "size": 10,
              "solidity": 0.2
             }
            },
            "type": "histogram"
           }
          ],
          "histogram2d": [
           {
            "colorbar": {
             "outlinewidth": 0,
             "ticks": ""
            },
            "colorscale": [
             [
              0,
              "#0d0887"
             ],
             [
              0.1111111111111111,
              "#46039f"
             ],
             [
              0.2222222222222222,
              "#7201a8"
             ],
             [
              0.3333333333333333,
              "#9c179e"
             ],
             [
              0.4444444444444444,
              "#bd3786"
             ],
             [
              0.5555555555555556,
              "#d8576b"
             ],
             [
              0.6666666666666666,
              "#ed7953"
             ],
             [
              0.7777777777777778,
              "#fb9f3a"
             ],
             [
              0.8888888888888888,
              "#fdca26"
             ],
             [
              1,
              "#f0f921"
             ]
            ],
            "type": "histogram2d"
           }
          ],
          "histogram2dcontour": [
           {
            "colorbar": {
             "outlinewidth": 0,
             "ticks": ""
            },
            "colorscale": [
             [
              0,
              "#0d0887"
             ],
             [
              0.1111111111111111,
              "#46039f"
             ],
             [
              0.2222222222222222,
              "#7201a8"
             ],
             [
              0.3333333333333333,
              "#9c179e"
             ],
             [
              0.4444444444444444,
              "#bd3786"
             ],
             [
              0.5555555555555556,
              "#d8576b"
             ],
             [
              0.6666666666666666,
              "#ed7953"
             ],
             [
              0.7777777777777778,
              "#fb9f3a"
             ],
             [
              0.8888888888888888,
              "#fdca26"
             ],
             [
              1,
              "#f0f921"
             ]
            ],
            "type": "histogram2dcontour"
           }
          ],
          "mesh3d": [
           {
            "colorbar": {
             "outlinewidth": 0,
             "ticks": ""
            },
            "type": "mesh3d"
           }
          ],
          "parcoords": [
           {
            "line": {
             "colorbar": {
              "outlinewidth": 0,
              "ticks": ""
             }
            },
            "type": "parcoords"
           }
          ],
          "pie": [
           {
            "automargin": true,
            "type": "pie"
           }
          ],
          "scatter": [
           {
            "fillpattern": {
             "fillmode": "overlay",
             "size": 10,
             "solidity": 0.2
            },
            "type": "scatter"
           }
          ],
          "scatter3d": [
           {
            "line": {
             "colorbar": {
              "outlinewidth": 0,
              "ticks": ""
             }
            },
            "marker": {
             "colorbar": {
              "outlinewidth": 0,
              "ticks": ""
             }
            },
            "type": "scatter3d"
           }
          ],
          "scattercarpet": [
           {
            "marker": {
             "colorbar": {
              "outlinewidth": 0,
              "ticks": ""
             }
            },
            "type": "scattercarpet"
           }
          ],
          "scattergeo": [
           {
            "marker": {
             "colorbar": {
              "outlinewidth": 0,
              "ticks": ""
             }
            },
            "type": "scattergeo"
           }
          ],
          "scattergl": [
           {
            "marker": {
             "colorbar": {
              "outlinewidth": 0,
              "ticks": ""
             }
            },
            "type": "scattergl"
           }
          ],
          "scattermap": [
           {
            "marker": {
             "colorbar": {
              "outlinewidth": 0,
              "ticks": ""
             }
            },
            "type": "scattermap"
           }
          ],
          "scattermapbox": [
           {
            "marker": {
             "colorbar": {
              "outlinewidth": 0,
              "ticks": ""
             }
            },
            "type": "scattermapbox"
           }
          ],
          "scatterpolar": [
           {
            "marker": {
             "colorbar": {
              "outlinewidth": 0,
              "ticks": ""
             }
            },
            "type": "scatterpolar"
           }
          ],
          "scatterpolargl": [
           {
            "marker": {
             "colorbar": {
              "outlinewidth": 0,
              "ticks": ""
             }
            },
            "type": "scatterpolargl"
           }
          ],
          "scatterternary": [
           {
            "marker": {
             "colorbar": {
              "outlinewidth": 0,
              "ticks": ""
             }
            },
            "type": "scatterternary"
           }
          ],
          "surface": [
           {
            "colorbar": {
             "outlinewidth": 0,
             "ticks": ""
            },
            "colorscale": [
             [
              0,
              "#0d0887"
             ],
             [
              0.1111111111111111,
              "#46039f"
             ],
             [
              0.2222222222222222,
              "#7201a8"
             ],
             [
              0.3333333333333333,
              "#9c179e"
             ],
             [
              0.4444444444444444,
              "#bd3786"
             ],
             [
              0.5555555555555556,
              "#d8576b"
             ],
             [
              0.6666666666666666,
              "#ed7953"
             ],
             [
              0.7777777777777778,
              "#fb9f3a"
             ],
             [
              0.8888888888888888,
              "#fdca26"
             ],
             [
              1,
              "#f0f921"
             ]
            ],
            "type": "surface"
           }
          ],
          "table": [
           {
            "cells": {
             "fill": {
              "color": "#EBF0F8"
             },
             "line": {
              "color": "white"
             }
            },
            "header": {
             "fill": {
              "color": "#C8D4E3"
             },
             "line": {
              "color": "white"
             }
            },
            "type": "table"
           }
          ]
         },
         "layout": {
          "annotationdefaults": {
           "arrowcolor": "#2a3f5f",
           "arrowhead": 0,
           "arrowwidth": 1
          },
          "autotypenumbers": "strict",
          "coloraxis": {
           "colorbar": {
            "outlinewidth": 0,
            "ticks": ""
           }
          },
          "colorscale": {
           "diverging": [
            [
             0,
             "#8e0152"
            ],
            [
             0.1,
             "#c51b7d"
            ],
            [
             0.2,
             "#de77ae"
            ],
            [
             0.3,
             "#f1b6da"
            ],
            [
             0.4,
             "#fde0ef"
            ],
            [
             0.5,
             "#f7f7f7"
            ],
            [
             0.6,
             "#e6f5d0"
            ],
            [
             0.7,
             "#b8e186"
            ],
            [
             0.8,
             "#7fbc41"
            ],
            [
             0.9,
             "#4d9221"
            ],
            [
             1,
             "#276419"
            ]
           ],
           "sequential": [
            [
             0,
             "#0d0887"
            ],
            [
             0.1111111111111111,
             "#46039f"
            ],
            [
             0.2222222222222222,
             "#7201a8"
            ],
            [
             0.3333333333333333,
             "#9c179e"
            ],
            [
             0.4444444444444444,
             "#bd3786"
            ],
            [
             0.5555555555555556,
             "#d8576b"
            ],
            [
             0.6666666666666666,
             "#ed7953"
            ],
            [
             0.7777777777777778,
             "#fb9f3a"
            ],
            [
             0.8888888888888888,
             "#fdca26"
            ],
            [
             1,
             "#f0f921"
            ]
           ],
           "sequentialminus": [
            [
             0,
             "#0d0887"
            ],
            [
             0.1111111111111111,
             "#46039f"
            ],
            [
             0.2222222222222222,
             "#7201a8"
            ],
            [
             0.3333333333333333,
             "#9c179e"
            ],
            [
             0.4444444444444444,
             "#bd3786"
            ],
            [
             0.5555555555555556,
             "#d8576b"
            ],
            [
             0.6666666666666666,
             "#ed7953"
            ],
            [
             0.7777777777777778,
             "#fb9f3a"
            ],
            [
             0.8888888888888888,
             "#fdca26"
            ],
            [
             1,
             "#f0f921"
            ]
           ]
          },
          "colorway": [
           "#636efa",
           "#EF553B",
           "#00cc96",
           "#ab63fa",
           "#FFA15A",
           "#19d3f3",
           "#FF6692",
           "#B6E880",
           "#FF97FF",
           "#FECB52"
          ],
          "font": {
           "color": "#2a3f5f"
          },
          "geo": {
           "bgcolor": "white",
           "lakecolor": "white",
           "landcolor": "#E5ECF6",
           "showlakes": true,
           "showland": true,
           "subunitcolor": "white"
          },
          "hoverlabel": {
           "align": "left"
          },
          "hovermode": "closest",
          "mapbox": {
           "style": "light"
          },
          "paper_bgcolor": "white",
          "plot_bgcolor": "#E5ECF6",
          "polar": {
           "angularaxis": {
            "gridcolor": "white",
            "linecolor": "white",
            "ticks": ""
           },
           "bgcolor": "#E5ECF6",
           "radialaxis": {
            "gridcolor": "white",
            "linecolor": "white",
            "ticks": ""
           }
          },
          "scene": {
           "xaxis": {
            "backgroundcolor": "#E5ECF6",
            "gridcolor": "white",
            "gridwidth": 2,
            "linecolor": "white",
            "showbackground": true,
            "ticks": "",
            "zerolinecolor": "white"
           },
           "yaxis": {
            "backgroundcolor": "#E5ECF6",
            "gridcolor": "white",
            "gridwidth": 2,
            "linecolor": "white",
            "showbackground": true,
            "ticks": "",
            "zerolinecolor": "white"
           },
           "zaxis": {
            "backgroundcolor": "#E5ECF6",
            "gridcolor": "white",
            "gridwidth": 2,
            "linecolor": "white",
            "showbackground": true,
            "ticks": "",
            "zerolinecolor": "white"
           }
          },
          "shapedefaults": {
           "line": {
            "color": "#2a3f5f"
           }
          },
          "ternary": {
           "aaxis": {
            "gridcolor": "white",
            "linecolor": "white",
            "ticks": ""
           },
           "baxis": {
            "gridcolor": "white",
            "linecolor": "white",
            "ticks": ""
           },
           "bgcolor": "#E5ECF6",
           "caxis": {
            "gridcolor": "white",
            "linecolor": "white",
            "ticks": ""
           }
          },
          "title": {
           "x": 0.05
          },
          "xaxis": {
           "automargin": true,
           "gridcolor": "white",
           "linecolor": "white",
           "ticks": "",
           "title": {
            "standoff": 15
           },
           "zerolinecolor": "white",
           "zerolinewidth": 2
          },
          "yaxis": {
           "automargin": true,
           "gridcolor": "white",
           "linecolor": "white",
           "ticks": "",
           "title": {
            "standoff": 15
           },
           "zerolinecolor": "white",
           "zerolinewidth": 2
          }
         }
        },
        "title": {
         "text": "NBA Team Performance Dashboard"
        },
        "xaxis": {
         "anchor": "y",
         "domain": [
          0,
          0.45
         ],
         "title": {
          "text": "Points Scored"
         }
        },
        "xaxis2": {
         "anchor": "y2",
         "domain": [
          0.55,
          1
         ],
         "title": {
          "text": "Season Win %"
         }
        },
        "xaxis3": {
         "anchor": "y3",
         "domain": [
          0,
          0.45
         ],
         "title": {
          "text": "Win Rate"
         }
        },
        "xaxis4": {
         "anchor": "y4",
         "domain": [
          0.55,
          1
         ],
         "title": {
          "text": "Point Differential"
         }
        },
        "yaxis": {
         "anchor": "x",
         "domain": [
          0.625,
          1
         ],
         "title": {
          "text": "Points Allowed"
         }
        },
        "yaxis2": {
         "anchor": "x2",
         "domain": [
          0.625,
          1
         ],
         "title": {
          "text": "Recent Win %"
         }
        },
        "yaxis3": {
         "anchor": "x3",
         "domain": [
          0,
          0.375
         ]
        },
        "yaxis4": {
         "anchor": "x4",
         "domain": [
          0,
          0.375
         ]
        }
       }
      }
     },
     "metadata": {},
     "output_type": "display_data"
    },
    {
     "name": "stdout",
     "output_type": "stream",
     "text": [
      "\n",
      "KEY INSIGHTS FROM TEAM ANALYSIS:\n",
      "--------------------------------------------------\n",
      "• Best Overall Team: Team Giannis (66.7% win rate)\n",
      "• Struggling Team: Ra'anana Maccabi Ra'anana (0.0% win rate)\n",
      "• Highest Scoring: Team Giannis (184.0 PPG)\n",
      "• Best Defense: Miami Heat (107.7 PPG allowed)\n",
      "• Teams trending up: 0 teams\n",
      "• Teams trending down: 0 teams\n",
      "• League average point differential: -1.6\n",
      "• Most balanced team (closest to 0 diff): Atlanta Hawks\n"
     ]
    }
   ],
   "source": [
    "# Interactive Team Performance Dashboard with Plotly\n",
    "if features_df is not None:\n",
    "    print(\"INTERACTIVE TEAM PERFORMANCE DASHBOARD\")\n",
    "    print(\"=\"*50)\n",
    "    \n",
    "    # Prepare data for interactive visualizations\n",
    "    team_perf = features_df.groupby('team_name').agg({\n",
    "        'target_win': ['count', 'mean'],\n",
    "        'season_win_pct': 'mean',\n",
    "        'season_avg_pts': 'mean',\n",
    "        'season_avg_pts_allowed': 'mean',\n",
    "        'win_pct_last_10': 'mean',\n",
    "        'is_home': 'mean'\n",
    "    }).round(3)\n",
    "    \n",
    "    team_perf.columns = ['games_played', 'win_rate', 'season_win_pct', \n",
    "                        'avg_pts_scored', 'avg_pts_allowed', 'recent_win_pct', 'home_pct']\n",
    "    team_perf = team_perf.reset_index()\n",
    "    team_perf['point_differential'] = team_perf['avg_pts_scored'] - team_perf['avg_pts_allowed']\n",
    "    \n",
    "    # Create interactive scatter plot\n",
    "    fig = px.scatter(team_perf, \n",
    "                     x='point_differential', \n",
    "                     y='win_rate',\n",
    "                     size='games_played',\n",
    "                     color='avg_pts_scored',\n",
    "                     hover_name='team_name',\n",
    "                     hover_data=['season_win_pct', 'recent_win_pct', 'avg_pts_allowed'],\n",
    "                     title='Team Performance: Win Rate vs Point Differential',\n",
    "                     labels={'point_differential': 'Point Differential (PPG)',\n",
    "                            'win_rate': 'Win Rate',\n",
    "                            'avg_pts_scored': 'Avg Points Scored'},\n",
    "                     color_continuous_scale='viridis')\n",
    "    \n",
    "    fig.update_layout(height=600, showlegend=True)\n",
    "    fig.show()\n",
    "    \n",
    "    # Create a team comparison dashboard\n",
    "    fig2 = make_subplots(\n",
    "        rows=2, cols=2,\n",
    "        subplot_titles=('Offensive vs Defensive Rating', 'Season vs Recent Form', \n",
    "                       'Win Rate Distribution', 'Point Differential Ranking'),\n",
    "        specs=[[{\"type\": \"scatter\"}, {\"type\": \"scatter\"}],\n",
    "               [{\"type\": \"bar\"}, {\"type\": \"bar\"}]]\n",
    "    )\n",
    "    \n",
    "    # Subplot 1: Offense vs Defense\n",
    "    fig2.add_trace(\n",
    "        go.Scatter(x=team_perf['avg_pts_scored'], \n",
    "                  y=team_perf['avg_pts_allowed'],\n",
    "                  mode='markers+text',\n",
    "                  text=team_perf['team_name'],\n",
    "                  textposition='top center',\n",
    "                  marker=dict(size=10, color=team_perf['win_rate'], \n",
    "                             colorscale='RdYlGn', showscale=True),\n",
    "                  name='Teams'),\n",
    "        row=1, col=1\n",
    "    )\n",
    "    \n",
    "    # Subplot 2: Season vs Recent\n",
    "    fig2.add_trace(\n",
    "        go.Scatter(x=team_perf['season_win_pct'], \n",
    "                  y=team_perf['recent_win_pct'],\n",
    "                  mode='markers+text',\n",
    "                  text=team_perf['team_name'],\n",
    "                  textposition='top center',\n",
    "                  marker=dict(size=8),\n",
    "                  name='Performance'),\n",
    "        row=1, col=2\n",
    "    )\n",
    "    \n",
    "    # Subplot 3: Win Rate Distribution\n",
    "    team_perf_sorted = team_perf.sort_values('win_rate')\n",
    "    colors = ['red' if x < 0.4 else 'orange' if x < 0.6 else 'green' \n",
    "              for x in team_perf_sorted['win_rate']]\n",
    "    \n",
    "    fig2.add_trace(\n",
    "        go.Bar(x=team_perf_sorted['win_rate'],\n",
    "               y=team_perf_sorted['team_name'],\n",
    "               orientation='h',\n",
    "               marker_color=colors,\n",
    "               name='Win Rate'),\n",
    "        row=2, col=1\n",
    "    )\n",
    "    \n",
    "    # Subplot 4: Point Differential\n",
    "    team_diff_sorted = team_perf.sort_values('point_differential')\n",
    "    colors2 = ['red' if x < -5 else 'orange' if x < 0 else 'lightgreen' if x < 5 else 'green' \n",
    "               for x in team_diff_sorted['point_differential']]\n",
    "    \n",
    "    fig2.add_trace(\n",
    "        go.Bar(x=team_diff_sorted['point_differential'],\n",
    "               y=team_diff_sorted['team_name'],\n",
    "               orientation='h',\n",
    "               marker_color=colors2,\n",
    "               name='Point Diff'),\n",
    "        row=2, col=2\n",
    "    )\n",
    "    \n",
    "    fig2.update_layout(height=800, showlegend=False, title_text=\"NBA Team Performance Dashboard\")\n",
    "    fig2.update_xaxes(title_text=\"Points Scored\", row=1, col=1)\n",
    "    fig2.update_yaxes(title_text=\"Points Allowed\", row=1, col=1)\n",
    "    fig2.update_xaxes(title_text=\"Season Win %\", row=1, col=2)\n",
    "    fig2.update_yaxes(title_text=\"Recent Win %\", row=1, col=2)\n",
    "    fig2.update_xaxes(title_text=\"Win Rate\", row=2, col=1)\n",
    "    fig2.update_xaxes(title_text=\"Point Differential\", row=2, col=2)\n",
    "    \n",
    "    fig2.show()\n",
    "    \n",
    "    # Performance insights\n",
    "    print(f\"\\nKEY INSIGHTS FROM TEAM ANALYSIS:\")\n",
    "    print(\"-\" * 50)\n",
    "    \n",
    "    best_team = team_perf.loc[team_perf['win_rate'].idxmax()]\n",
    "    worst_team = team_perf.loc[team_perf['win_rate'].idxmin()]\n",
    "    highest_scoring = team_perf.loc[team_perf['avg_pts_scored'].idxmax()]\n",
    "    best_defense = team_perf.loc[team_perf['avg_pts_allowed'].idxmin()]\n",
    "    \n",
    "    print(f\"• Best Overall Team: {best_team['team_name']} ({best_team['win_rate']:.1%} win rate)\")\n",
    "    print(f\"• Struggling Team: {worst_team['team_name']} ({worst_team['win_rate']:.1%} win rate)\")\n",
    "    print(f\"• Highest Scoring: {highest_scoring['team_name']} ({highest_scoring['avg_pts_scored']:.1f} PPG)\")\n",
    "    print(f\"• Best Defense: {best_defense['team_name']} ({best_defense['avg_pts_allowed']:.1f} PPG allowed)\")\n",
    "    \n",
    "    # Form analysis\n",
    "    improving_teams = team_perf[team_perf['recent_win_pct'] > team_perf['season_win_pct'] + 0.1]\n",
    "    declining_teams = team_perf[team_perf['recent_win_pct'] < team_perf['season_win_pct'] - 0.1]\n",
    "    \n",
    "    print(f\"• Teams trending up: {len(improving_teams)} teams\")\n",
    "    if len(improving_teams) > 0:\n",
    "        print(f\"  - {', '.join(improving_teams['team_name'].tolist())}\")\n",
    "    \n",
    "    print(f\"• Teams trending down: {len(declining_teams)} teams\")\n",
    "    if len(declining_teams) > 0:\n",
    "        print(f\"  - {', '.join(declining_teams['team_name'].tolist())}\")\n",
    "    \n",
    "    print(f\"• League average point differential: {team_perf['point_differential'].mean():+.1f}\")\n",
    "    print(f\"• Most balanced team (closest to 0 diff): {team_perf.loc[team_perf['point_differential'].abs().idxmin(), 'team_name']}\")\n",
    "    \n",
    "else:\n",
    "    print(\"❌ No features data available for interactive team performance analysis\")"
   ]
  },
  {
   "cell_type": "code",
   "execution_count": null,
   "metadata": {},
   "outputs": [],
   "source": [
    "## 2. Team Performance Analysis\n",
    "\n",
    "## Let's analyze team performance across different metrics and create visualizations to understand team strengths and weaknesses.\n"
   ]
  },
  {
   "cell_type": "code",
   "execution_count": 16,
   "metadata": {},
   "outputs": [
    {
     "name": "stdout",
     "output_type": "stream",
     "text": [
      "TEAM STATISTICS CALCULATED\n",
      "==================================================\n",
      "Analyzed 34 teams\n",
      "Calculated 11 performance metrics per team\n",
      "\n",
      "League Averages:\n",
      "• Average Win Rate: 47.6%\n",
      "• Average Points Per Game: 116.2\n",
      "• Average Points Allowed: 117.8\n",
      "• Average Point Differential: -1.6\n"
     ]
    }
   ],
   "source": [
    "# Team Performance Analysis\n",
    "if features_df is not None:\n",
    "    # Calculate team statistics\n",
    "    team_stats = features_df.groupby('team_name').agg({\n",
    "        'target_win': ['count', 'mean'],\n",
    "        'season_win_pct': 'mean',\n",
    "        'season_avg_pts': 'mean',\n",
    "        'season_avg_pts_allowed': 'mean',\n",
    "        'avg_pts_last_10': 'mean',\n",
    "        'avg_pts_allowed_last_10': 'mean',\n",
    "        'win_pct_last_10': 'mean',\n",
    "        'is_home': 'mean'  # Home game percentage\n",
    "    }).round(3)\n",
    "    \n",
    "    # Flatten column names\n",
    "    team_stats.columns = ['_'.join(col).strip() for col in team_stats.columns]\n",
    "    team_stats = team_stats.reset_index()\n",
    "    \n",
    "    # Rename columns for clarity\n",
    "    team_stats.columns = [\n",
    "        'team_name', 'games_played', 'win_rate', 'season_win_pct', 'season_avg_pts', \n",
    "        'season_avg_pts_allowed', 'recent_avg_pts', 'recent_avg_pts_allowed', \n",
    "        'recent_win_pct', 'home_game_pct'\n",
    "    ]\n",
    "    \n",
    "    # Calculate point differential\n",
    "    team_stats['season_point_diff'] = team_stats['season_avg_pts'] - team_stats['season_avg_pts_allowed']\n",
    "    team_stats['recent_point_diff'] = team_stats['recent_avg_pts'] - team_stats['recent_avg_pts_allowed']\n",
    "    \n",
    "    print(\"TEAM STATISTICS CALCULATED\")\n",
    "    print(\"=\"*50)\n",
    "    print(f\"Analyzed {len(team_stats)} teams\")\n",
    "    print(f\"Calculated {len(team_stats.columns)-1} performance metrics per team\")\n",
    "    \n",
    "    # Show basic stats\n",
    "    print(f\"\\nLeague Averages:\")\n",
    "    print(f\"• Average Win Rate: {team_stats['win_rate'].mean():.1%}\")\n",
    "    print(f\"• Average Points Per Game: {team_stats['season_avg_pts'].mean():.1f}\")\n",
    "    print(f\"• Average Points Allowed: {team_stats['season_avg_pts_allowed'].mean():.1f}\")\n",
    "    print(f\"• Average Point Differential: {team_stats['season_point_diff'].mean():+.1f}\")\n",
    "    \n",
    "else:\n",
    "    print(\"No features data available for team analysis\")\n"
   ]
  },
  {
   "cell_type": "code",
   "execution_count": 17,
   "metadata": {},
   "outputs": [
    {
     "name": "stdout",
     "output_type": "stream",
     "text": [
      "TOP TEAMS BY WIN RATE\n",
      "==================================================\n"
     ]
    },
    {
     "data": {
      "text/html": [
       "<div>\n",
       "<style scoped>\n",
       "    .dataframe tbody tr th:only-of-type {\n",
       "        vertical-align: middle;\n",
       "    }\n",
       "\n",
       "    .dataframe tbody tr th {\n",
       "        vertical-align: top;\n",
       "    }\n",
       "\n",
       "    .dataframe thead th {\n",
       "        text-align: right;\n",
       "    }\n",
       "</style>\n",
       "<table border=\"1\" class=\"dataframe\">\n",
       "  <thead>\n",
       "    <tr style=\"text-align: right;\">\n",
       "      <th></th>\n",
       "      <th>team_name</th>\n",
       "      <th>games_played</th>\n",
       "      <th>win_rate</th>\n",
       "      <th>season_win_pct</th>\n",
       "      <th>season_point_diff</th>\n",
       "    </tr>\n",
       "  </thead>\n",
       "  <tbody>\n",
       "    <tr>\n",
       "      <th>29</th>\n",
       "      <td>Team Giannis</td>\n",
       "      <td>3</td>\n",
       "      <td>0.667</td>\n",
       "      <td>1.000</td>\n",
       "      <td>9.000</td>\n",
       "    </tr>\n",
       "    <tr>\n",
       "      <th>30</th>\n",
       "      <td>Team LeBron</td>\n",
       "      <td>6</td>\n",
       "      <td>0.667</td>\n",
       "      <td>0.500</td>\n",
       "      <td>5.500</td>\n",
       "    </tr>\n",
       "    <tr>\n",
       "      <th>23</th>\n",
       "      <td>Phoenix Suns</td>\n",
       "      <td>334</td>\n",
       "      <td>0.635</td>\n",
       "      <td>0.642</td>\n",
       "      <td>4.061</td>\n",
       "    </tr>\n",
       "    <tr>\n",
       "      <th>22</th>\n",
       "      <td>Philadelphia 76ers</td>\n",
       "      <td>322</td>\n",
       "      <td>0.627</td>\n",
       "      <td>0.631</td>\n",
       "      <td>3.300</td>\n",
       "    </tr>\n",
       "    <tr>\n",
       "      <th>16</th>\n",
       "      <td>Milwaukee Bucks</td>\n",
       "      <td>337</td>\n",
       "      <td>0.626</td>\n",
       "      <td>0.638</td>\n",
       "      <td>4.177</td>\n",
       "    </tr>\n",
       "    <tr>\n",
       "      <th>7</th>\n",
       "      <td>Denver Nuggets</td>\n",
       "      <td>343</td>\n",
       "      <td>0.603</td>\n",
       "      <td>0.605</td>\n",
       "      <td>2.623</td>\n",
       "    </tr>\n",
       "    <tr>\n",
       "      <th>1</th>\n",
       "      <td>Boston Celtics</td>\n",
       "      <td>353</td>\n",
       "      <td>0.592</td>\n",
       "      <td>0.603</td>\n",
       "      <td>4.901</td>\n",
       "    </tr>\n",
       "    <tr>\n",
       "      <th>14</th>\n",
       "      <td>Memphis Grizzlies</td>\n",
       "      <td>313</td>\n",
       "      <td>0.588</td>\n",
       "      <td>0.600</td>\n",
       "      <td>3.766</td>\n",
       "    </tr>\n",
       "    <tr>\n",
       "      <th>15</th>\n",
       "      <td>Miami Heat</td>\n",
       "      <td>355</td>\n",
       "      <td>0.577</td>\n",
       "      <td>0.580</td>\n",
       "      <td>1.453</td>\n",
       "    </tr>\n",
       "    <tr>\n",
       "      <th>32</th>\n",
       "      <td>Utah Jazz</td>\n",
       "      <td>310</td>\n",
       "      <td>0.574</td>\n",
       "      <td>0.576</td>\n",
       "      <td>3.762</td>\n",
       "    </tr>\n",
       "  </tbody>\n",
       "</table>\n",
       "</div>"
      ],
      "text/plain": [
       "             team_name  games_played  win_rate  season_win_pct  season_point_diff\n",
       "29        Team Giannis             3     0.667           1.000              9.000\n",
       "30         Team LeBron             6     0.667           0.500              5.500\n",
       "23        Phoenix Suns           334     0.635           0.642              4.061\n",
       "22  Philadelphia 76ers           322     0.627           0.631              3.300\n",
       "16     Milwaukee Bucks           337     0.626           0.638              4.177\n",
       "7       Denver Nuggets           343     0.603           0.605              2.623\n",
       "1       Boston Celtics           353     0.592           0.603              4.901\n",
       "14   Memphis Grizzlies           313     0.588           0.600              3.766\n",
       "15          Miami Heat           355     0.577           0.580              1.453\n",
       "32           Utah Jazz           310     0.574           0.576              3.762"
      ]
     },
     "metadata": {},
     "output_type": "display_data"
    },
    {
     "name": "stdout",
     "output_type": "stream",
     "text": [
      "\n",
      "HIGHEST SCORING TEAMS\n",
      "==================================================\n"
     ]
    },
    {
     "data": {
      "text/html": [
       "<div>\n",
       "<style scoped>\n",
       "    .dataframe tbody tr th:only-of-type {\n",
       "        vertical-align: middle;\n",
       "    }\n",
       "\n",
       "    .dataframe tbody tr th {\n",
       "        vertical-align: top;\n",
       "    }\n",
       "\n",
       "    .dataframe thead th {\n",
       "        text-align: right;\n",
       "    }\n",
       "</style>\n",
       "<table border=\"1\" class=\"dataframe\">\n",
       "  <thead>\n",
       "    <tr style=\"text-align: right;\">\n",
       "      <th></th>\n",
       "      <th>team_name</th>\n",
       "      <th>season_avg_pts</th>\n",
       "      <th>season_avg_pts_allowed</th>\n",
       "      <th>season_point_diff</th>\n",
       "    </tr>\n",
       "  </thead>\n",
       "  <tbody>\n",
       "    <tr>\n",
       "      <th>29</th>\n",
       "      <td>Team Giannis</td>\n",
       "      <td>184.000</td>\n",
       "      <td>175.000</td>\n",
       "      <td>9.000</td>\n",
       "    </tr>\n",
       "    <tr>\n",
       "      <th>30</th>\n",
       "      <td>Team LeBron</td>\n",
       "      <td>172.500</td>\n",
       "      <td>167.000</td>\n",
       "      <td>5.500</td>\n",
       "    </tr>\n",
       "    <tr>\n",
       "      <th>28</th>\n",
       "      <td>Team Durant</td>\n",
       "      <td>150.000</td>\n",
       "      <td>170.000</td>\n",
       "      <td>-20.000</td>\n",
       "    </tr>\n",
       "    <tr>\n",
       "      <th>16</th>\n",
       "      <td>Milwaukee Bucks</td>\n",
       "      <td>116.120</td>\n",
       "      <td>111.943</td>\n",
       "      <td>4.177</td>\n",
       "    </tr>\n",
       "    <tr>\n",
       "      <th>32</th>\n",
       "      <td>Utah Jazz</td>\n",
       "      <td>114.917</td>\n",
       "      <td>111.155</td>\n",
       "      <td>3.762</td>\n",
       "    </tr>\n",
       "    <tr>\n",
       "      <th>26</th>\n",
       "      <td>Sacramento Kings</td>\n",
       "      <td>114.891</td>\n",
       "      <td>116.219</td>\n",
       "      <td>-1.328</td>\n",
       "    </tr>\n",
       "    <tr>\n",
       "      <th>14</th>\n",
       "      <td>Memphis Grizzlies</td>\n",
       "      <td>114.881</td>\n",
       "      <td>111.115</td>\n",
       "      <td>3.766</td>\n",
       "    </tr>\n",
       "    <tr>\n",
       "      <th>17</th>\n",
       "      <td>Minnesota Timberwolves</td>\n",
       "      <td>114.334</td>\n",
       "      <td>115.688</td>\n",
       "      <td>-1.354</td>\n",
       "    </tr>\n",
       "    <tr>\n",
       "      <th>0</th>\n",
       "      <td>Atlanta Hawks</td>\n",
       "      <td>114.266</td>\n",
       "      <td>114.428</td>\n",
       "      <td>-0.162</td>\n",
       "    </tr>\n",
       "    <tr>\n",
       "      <th>7</th>\n",
       "      <td>Denver Nuggets</td>\n",
       "      <td>113.823</td>\n",
       "      <td>111.200</td>\n",
       "      <td>2.623</td>\n",
       "    </tr>\n",
       "  </tbody>\n",
       "</table>\n",
       "</div>"
      ],
      "text/plain": [
       "                 team_name  season_avg_pts  season_avg_pts_allowed  season_point_diff\n",
       "29            Team Giannis         184.000                 175.000              9.000\n",
       "30             Team LeBron         172.500                 167.000              5.500\n",
       "28             Team Durant         150.000                 170.000            -20.000\n",
       "16         Milwaukee Bucks         116.120                 111.943              4.177\n",
       "32               Utah Jazz         114.917                 111.155              3.762\n",
       "26        Sacramento Kings         114.891                 116.219             -1.328\n",
       "14       Memphis Grizzlies         114.881                 111.115              3.766\n",
       "17  Minnesota Timberwolves         114.334                 115.688             -1.354\n",
       "0            Atlanta Hawks         114.266                 114.428             -0.162\n",
       "7           Denver Nuggets         113.823                 111.200              2.623"
      ]
     },
     "metadata": {},
     "output_type": "display_data"
    },
    {
     "name": "stdout",
     "output_type": "stream",
     "text": [
      "\n",
      "BEST DEFENSIVE TEAMS (Lowest Points Allowed)\n",
      "==================================================\n"
     ]
    },
    {
     "data": {
      "text/html": [
       "<div>\n",
       "<style scoped>\n",
       "    .dataframe tbody tr th:only-of-type {\n",
       "        vertical-align: middle;\n",
       "    }\n",
       "\n",
       "    .dataframe tbody tr th {\n",
       "        vertical-align: top;\n",
       "    }\n",
       "\n",
       "    .dataframe thead th {\n",
       "        text-align: right;\n",
       "    }\n",
       "</style>\n",
       "<table border=\"1\" class=\"dataframe\">\n",
       "  <thead>\n",
       "    <tr style=\"text-align: right;\">\n",
       "      <th></th>\n",
       "      <th>team_name</th>\n",
       "      <th>season_avg_pts_allowed</th>\n",
       "      <th>season_avg_pts</th>\n",
       "      <th>season_point_diff</th>\n",
       "    </tr>\n",
       "  </thead>\n",
       "  <tbody>\n",
       "    <tr>\n",
       "      <th>15</th>\n",
       "      <td>Miami Heat</td>\n",
       "      <td>107.703</td>\n",
       "      <td>109.156</td>\n",
       "      <td>1.453</td>\n",
       "    </tr>\n",
       "    <tr>\n",
       "      <th>19</th>\n",
       "      <td>New York Knicks</td>\n",
       "      <td>108.036</td>\n",
       "      <td>109.091</td>\n",
       "      <td>1.055</td>\n",
       "    </tr>\n",
       "    <tr>\n",
       "      <th>1</th>\n",
       "      <td>Boston Celtics</td>\n",
       "      <td>108.495</td>\n",
       "      <td>113.396</td>\n",
       "      <td>4.901</td>\n",
       "    </tr>\n",
       "    <tr>\n",
       "      <th>5</th>\n",
       "      <td>Cleveland Cavaliers</td>\n",
       "      <td>108.767</td>\n",
       "      <td>107.770</td>\n",
       "      <td>-0.997</td>\n",
       "    </tr>\n",
       "    <tr>\n",
       "      <th>22</th>\n",
       "      <td>Philadelphia 76ers</td>\n",
       "      <td>108.798</td>\n",
       "      <td>112.098</td>\n",
       "      <td>3.300</td>\n",
       "    </tr>\n",
       "    <tr>\n",
       "      <th>31</th>\n",
       "      <td>Toronto Raptors</td>\n",
       "      <td>109.332</td>\n",
       "      <td>111.403</td>\n",
       "      <td>2.071</td>\n",
       "    </tr>\n",
       "    <tr>\n",
       "      <th>23</th>\n",
       "      <td>Phoenix Suns</td>\n",
       "      <td>109.622</td>\n",
       "      <td>113.683</td>\n",
       "      <td>4.061</td>\n",
       "    </tr>\n",
       "    <tr>\n",
       "      <th>6</th>\n",
       "      <td>Dallas Mavericks</td>\n",
       "      <td>109.831</td>\n",
       "      <td>112.088</td>\n",
       "      <td>2.257</td>\n",
       "    </tr>\n",
       "    <tr>\n",
       "      <th>12</th>\n",
       "      <td>LA Clippers</td>\n",
       "      <td>109.930</td>\n",
       "      <td>112.444</td>\n",
       "      <td>2.514</td>\n",
       "    </tr>\n",
       "    <tr>\n",
       "      <th>14</th>\n",
       "      <td>Memphis Grizzlies</td>\n",
       "      <td>111.115</td>\n",
       "      <td>114.881</td>\n",
       "      <td>3.766</td>\n",
       "    </tr>\n",
       "  </tbody>\n",
       "</table>\n",
       "</div>"
      ],
      "text/plain": [
       "              team_name  season_avg_pts_allowed  season_avg_pts  season_point_diff\n",
       "15           Miami Heat                 107.703         109.156              1.453\n",
       "19      New York Knicks                 108.036         109.091              1.055\n",
       "1        Boston Celtics                 108.495         113.396              4.901\n",
       "5   Cleveland Cavaliers                 108.767         107.770             -0.997\n",
       "22   Philadelphia 76ers                 108.798         112.098              3.300\n",
       "31      Toronto Raptors                 109.332         111.403              2.071\n",
       "23         Phoenix Suns                 109.622         113.683              4.061\n",
       "6      Dallas Mavericks                 109.831         112.088              2.257\n",
       "12          LA Clippers                 109.930         112.444              2.514\n",
       "14    Memphis Grizzlies                 111.115         114.881              3.766"
      ]
     },
     "metadata": {},
     "output_type": "display_data"
    },
    {
     "name": "stdout",
     "output_type": "stream",
     "text": [
      "\n",
      "LARGEST POINT DIFFERENTIALS\n",
      "==================================================\n"
     ]
    },
    {
     "data": {
      "text/html": [
       "<div>\n",
       "<style scoped>\n",
       "    .dataframe tbody tr th:only-of-type {\n",
       "        vertical-align: middle;\n",
       "    }\n",
       "\n",
       "    .dataframe tbody tr th {\n",
       "        vertical-align: top;\n",
       "    }\n",
       "\n",
       "    .dataframe thead th {\n",
       "        text-align: right;\n",
       "    }\n",
       "</style>\n",
       "<table border=\"1\" class=\"dataframe\">\n",
       "  <thead>\n",
       "    <tr style=\"text-align: right;\">\n",
       "      <th></th>\n",
       "      <th>team_name</th>\n",
       "      <th>season_point_diff</th>\n",
       "      <th>season_avg_pts</th>\n",
       "      <th>season_avg_pts_allowed</th>\n",
       "      <th>win_rate</th>\n",
       "    </tr>\n",
       "  </thead>\n",
       "  <tbody>\n",
       "    <tr>\n",
       "      <th>29</th>\n",
       "      <td>Team Giannis</td>\n",
       "      <td>9.000</td>\n",
       "      <td>184.000</td>\n",
       "      <td>175.000</td>\n",
       "      <td>0.667</td>\n",
       "    </tr>\n",
       "    <tr>\n",
       "      <th>30</th>\n",
       "      <td>Team LeBron</td>\n",
       "      <td>5.500</td>\n",
       "      <td>172.500</td>\n",
       "      <td>167.000</td>\n",
       "      <td>0.667</td>\n",
       "    </tr>\n",
       "    <tr>\n",
       "      <th>1</th>\n",
       "      <td>Boston Celtics</td>\n",
       "      <td>4.901</td>\n",
       "      <td>113.396</td>\n",
       "      <td>108.495</td>\n",
       "      <td>0.592</td>\n",
       "    </tr>\n",
       "    <tr>\n",
       "      <th>16</th>\n",
       "      <td>Milwaukee Bucks</td>\n",
       "      <td>4.177</td>\n",
       "      <td>116.120</td>\n",
       "      <td>111.943</td>\n",
       "      <td>0.626</td>\n",
       "    </tr>\n",
       "    <tr>\n",
       "      <th>23</th>\n",
       "      <td>Phoenix Suns</td>\n",
       "      <td>4.061</td>\n",
       "      <td>113.683</td>\n",
       "      <td>109.622</td>\n",
       "      <td>0.635</td>\n",
       "    </tr>\n",
       "    <tr>\n",
       "      <th>14</th>\n",
       "      <td>Memphis Grizzlies</td>\n",
       "      <td>3.766</td>\n",
       "      <td>114.881</td>\n",
       "      <td>111.115</td>\n",
       "      <td>0.588</td>\n",
       "    </tr>\n",
       "    <tr>\n",
       "      <th>32</th>\n",
       "      <td>Utah Jazz</td>\n",
       "      <td>3.762</td>\n",
       "      <td>114.917</td>\n",
       "      <td>111.155</td>\n",
       "      <td>0.574</td>\n",
       "    </tr>\n",
       "    <tr>\n",
       "      <th>22</th>\n",
       "      <td>Philadelphia 76ers</td>\n",
       "      <td>3.300</td>\n",
       "      <td>112.098</td>\n",
       "      <td>108.798</td>\n",
       "      <td>0.627</td>\n",
       "    </tr>\n",
       "    <tr>\n",
       "      <th>7</th>\n",
       "      <td>Denver Nuggets</td>\n",
       "      <td>2.623</td>\n",
       "      <td>113.823</td>\n",
       "      <td>111.200</td>\n",
       "      <td>0.603</td>\n",
       "    </tr>\n",
       "    <tr>\n",
       "      <th>12</th>\n",
       "      <td>LA Clippers</td>\n",
       "      <td>2.514</td>\n",
       "      <td>112.444</td>\n",
       "      <td>109.930</td>\n",
       "      <td>0.558</td>\n",
       "    </tr>\n",
       "  </tbody>\n",
       "</table>\n",
       "</div>"
      ],
      "text/plain": [
       "             team_name  season_point_diff  season_avg_pts  season_avg_pts_allowed  win_rate\n",
       "29        Team Giannis              9.000         184.000                 175.000     0.667\n",
       "30         Team LeBron              5.500         172.500                 167.000     0.667\n",
       "1       Boston Celtics              4.901         113.396                 108.495     0.592\n",
       "16     Milwaukee Bucks              4.177         116.120                 111.943     0.626\n",
       "23        Phoenix Suns              4.061         113.683                 109.622     0.635\n",
       "14   Memphis Grizzlies              3.766         114.881                 111.115     0.588\n",
       "32           Utah Jazz              3.762         114.917                 111.155     0.574\n",
       "22  Philadelphia 76ers              3.300         112.098                 108.798     0.627\n",
       "7       Denver Nuggets              2.623         113.823                 111.200     0.603\n",
       "12         LA Clippers              2.514         112.444                 109.930     0.558"
      ]
     },
     "metadata": {},
     "output_type": "display_data"
    },
    {
     "name": "stdout",
     "output_type": "stream",
     "text": [
      "\n",
      "LEAGUE SUMMARY STATISTICS\n",
      "==================================================\n",
      "Teams analyzed: 34\n",
      "Win rate range: 0.0% - 66.7%\n",
      "Scoring range: 83.0 - 184.0 PPG\n",
      "Point diff range: -46.5 to +9.0\n"
     ]
    }
   ],
   "source": [
    "# Display top teams rankings and performance tables\n",
    "if features_df is not None and 'team_stats' in locals():\n",
    "    \n",
    "    print(\"TOP TEAMS BY WIN RATE\")\n",
    "    print(\"=\"*50)\n",
    "    top_win_rate = team_stats.nlargest(10, 'win_rate')[['team_name', 'games_played', 'win_rate', 'season_win_pct', 'season_point_diff']]\n",
    "    display(top_win_rate)\n",
    "    \n",
    "    print(\"\\nHIGHEST SCORING TEAMS\")\n",
    "    print(\"=\"*50)\n",
    "    top_scoring = team_stats.nlargest(10, 'season_avg_pts')[['team_name', 'season_avg_pts', 'season_avg_pts_allowed', 'season_point_diff']]\n",
    "    display(top_scoring)\n",
    "    \n",
    "    print(\"\\nBEST DEFENSIVE TEAMS (Lowest Points Allowed)\")\n",
    "    print(\"=\"*50)\n",
    "    best_defense = team_stats.nsmallest(10, 'season_avg_pts_allowed')[['team_name', 'season_avg_pts_allowed', 'season_avg_pts', 'season_point_diff']]\n",
    "    display(best_defense)\n",
    "    \n",
    "    print(\"\\nLARGEST POINT DIFFERENTIALS\")\n",
    "    print(\"=\"*50)\n",
    "    best_diff = team_stats.nlargest(10, 'season_point_diff')[['team_name', 'season_point_diff', 'season_avg_pts', 'season_avg_pts_allowed', 'win_rate']]\n",
    "    display(best_diff)\n",
    "    \n",
    "    # Summary statistics\n",
    "    print(\"\\nLEAGUE SUMMARY STATISTICS\")\n",
    "    print(\"=\"*50)\n",
    "    print(f\"Teams analyzed: {len(team_stats)}\")\n",
    "    print(f\"Win rate range: {team_stats['win_rate'].min():.1%} - {team_stats['win_rate'].max():.1%}\")\n",
    "    print(f\"Scoring range: {team_stats['season_avg_pts'].min():.1f} - {team_stats['season_avg_pts'].max():.1f} PPG\")\n",
    "    print(f\"Point diff range: {team_stats['season_point_diff'].min():+.1f} to {team_stats['season_point_diff'].max():+.1f}\")\n",
    "    \n",
    "else:\n",
    "    print(\"Team statistics not available for display\")\n"
   ]
  },
  {
   "cell_type": "markdown",
   "metadata": {},
   "source": [
    "# 3. Model Performance & Betting Analysis\n",
    "\n",
    "Now let's analyze the model's performance and examine betting patterns, predictions accuracy, and potential profitability insights."
   ]
  },
  {
   "cell_type": "code",
   "execution_count": null,
   "metadata": {},
   "outputs": [
    {
     "name": "stdout",
     "output_type": "stream",
     "text": [
      "MODEL PERFORMANCE ANALYSIS\n",
      "==================================================\n",
      "Available tables: ['predictions', 'sqlite_sequence', 'daily_performance', 'model_performance']\n",
      "• No betting performance data available: Execution failed on sql '\n",
      "        SELECT * FROM betting_performance \n",
      "        ORDER BY bet_date DESC\n",
      "        LIMIT 500\n",
      "        ': no such table: betting_performance\n",
      "\n",
      "RECENT GAMES ANALYSIS (2024-2025 Season)\n",
      "==================================================\n",
      "Available columns: ['season_id', 'team_id_home', 'team_abbreviation_home', 'team_name_home', 'game_id', 'game_date', 'matchup_home', 'wl_home', 'min', 'fgm_home']...\n",
      "• Total games in dataset: 65698\n",
      "• Date range: 1946-11-01 to 2023-06-12\n",
      "• Average games per day: 5.1\n",
      "• Most games in one day: 15\n"
     ]
    }
   ],
   "source": [
    "# Model Performance Analysis\n",
    "if performance_available:\n",
    "    print(\"MODEL PERFORMANCE ANALYSIS\")\n",
    "    print(\"=\"*50)\n",
    "    \n",
    "    # Connect to performance database\n",
    "    conn = sqlite3.connect(performance_db)\n",
    "    \n",
    "    try:\n",
    "        # Load prediction performance data\n",
    "        # First check what tables exist\n",
    "        tables_query = \"SELECT name FROM sqlite_master WHERE type='table';\"\n",
    "        tables_df = pd.read_sql_query(tables_query, conn)\n",
    "        print(f\"Available tables: {tables_df['name'].tolist()}\")\n",
    "        \n",
    "        # Check predictions table schema\n",
    "        schema_query = \"PRAGMA table_info(predictions);\"\n",
    "        schema_df = pd.read_sql_query(schema_query, conn)\n",
    "        print(f\"Predictions table columns: {schema_df['name'].tolist()}\")\n",
    "        \n",
    "        predictions_query = \"\"\"\n",
    "        SELECT * FROM predictions \n",
    "        LIMIT 1000\n",
    "        \"\"\"\n",
    "        predictions_df = pd.read_sql_query(predictions_query, conn)\n",
    "        \n",
    "        if not predictions_df.empty:\n",
    "            print(f\"✅ Loaded {len(predictions_df)} recent predictions\")\n",
    "            predictions_df['prediction_date'] = pd.to_datetime(predictions_df['prediction_date'])\n",
    "            \n",
    "            # Calculate performance metrics\n",
    "            if 'actual_outcome' in predictions_df.columns and 'predicted_outcome' in predictions_df.columns:\n",
    "                accuracy = (predictions_df['actual_outcome'] == predictions_df['predicted_outcome']).mean()\n",
    "                print(f\"• Overall Model Accuracy: {accuracy:.1%}\")\n",
    "                \n",
    "                # Accuracy by confidence level (if available)\n",
    "                if 'confidence' in predictions_df.columns:\n",
    "                    predictions_df['confidence_bucket'] = pd.cut(predictions_df['confidence'], \n",
    "                                                               bins=[0, 0.6, 0.7, 0.8, 1.0], \n",
    "                                                               labels=['Low (≤60%)', 'Medium (60-70%)', \n",
    "                                                                      'High (70-80%)', 'Very High (>80%)'])\n",
    "                    accuracy_by_conf = predictions_df.groupby('confidence_bucket').agg({\n",
    "                        'predicted_outcome': 'count',\n",
    "                        'actual_outcome': lambda x: (predictions_df.loc[x.index, 'actual_outcome'] == \n",
    "                                                    predictions_df.loc[x.index, 'predicted_outcome']).sum()\n",
    "                    })\n",
    "                    accuracy_by_conf['accuracy'] = accuracy_by_conf['actual_outcome'] / accuracy_by_conf['predicted_outcome']\n",
    "                    \n",
    "                    print(f\"\\nAccuracy by Confidence Level:\")\n",
    "                    for conf_level in accuracy_by_conf.index:\n",
    "                        if pd.notna(conf_level):\n",
    "                            acc = accuracy_by_conf.loc[conf_level, 'accuracy']\n",
    "                            count = accuracy_by_conf.loc[conf_level, 'predicted_outcome']\n",
    "                            print(f\"• {conf_level}: {acc:.1%} ({count} predictions)\")\n",
    "        \n",
    "        # Load betting performance data if available\n",
    "        betting_query = \"\"\"\n",
    "        SELECT * FROM betting_performance \n",
    "        ORDER BY bet_date DESC\n",
    "        LIMIT 500\n",
    "        \"\"\"\n",
    "        try:\n",
    "            betting_df = pd.read_sql_query(betting_query, conn)\n",
    "            if not betting_df.empty:\n",
    "                print(f\"\\n✅ Loaded {len(betting_df)} betting records\")\n",
    "                betting_df['bet_date'] = pd.to_datetime(betting_df['bet_date'])\n",
    "                \n",
    "                # Calculate betting metrics\n",
    "                if 'profit_loss' in betting_df.columns:\n",
    "                    total_profit = betting_df['profit_loss'].sum()\n",
    "                    total_bets = len(betting_df)\n",
    "                    win_rate = (betting_df['profit_loss'] > 0).mean() if 'profit_loss' in betting_df.columns else None\n",
    "                    avg_bet = betting_df['bet_amount'].mean() if 'bet_amount' in betting_df.columns else None\n",
    "                    \n",
    "                    print(f\"• Total Profit/Loss: ${total_profit:,.2f}\")\n",
    "                    print(f\"• Total Bets Placed: {total_bets}\")\n",
    "                    if win_rate is not None:\n",
    "                        print(f\"• Betting Win Rate: {win_rate:.1%}\")\n",
    "                    if avg_bet is not None:\n",
    "                        print(f\"• Average Bet Size: ${avg_bet:.2f}\")\n",
    "                        \n",
    "                    # ROI calculation\n",
    "                    total_wagered = betting_df['bet_amount'].sum() if 'bet_amount' in betting_df.columns else None\n",
    "                    if total_wagered and total_wagered > 0:\n",
    "                        roi = (total_profit / total_wagered) * 100\n",
    "                        print(f\"• Return on Investment (ROI): {roi:+.2f}%\")\n",
    "                        \n",
    "        except Exception as e:\n",
    "            print(f\"• No betting performance data available: {str(e)}\")\n",
    "            betting_df = None\n",
    "            \n",
    "    except Exception as e:\n",
    "        print(f\"❌ Error loading performance data: {str(e)}\")\n",
    "        predictions_df = None\n",
    "        betting_df = None\n",
    "    finally:\n",
    "        conn.close()\n",
    "        \n",
    "else:\n",
    "    print(\"❌ No performance database available for analysis\")\n",
    "    predictions_df = None\n",
    "    betting_df = None\n",
    "\n",
    "# Analyze recent games for prediction opportunities\n",
    "if games_df is not None:\n",
    "    print(f\"\\nRECENT GAMES ANALYSIS (2024-2025 Season)\")\n",
    "    print(\"=\"*50)\n",
    "    \n",
    "    # First check what columns we have\n",
    "    print(f\"Available columns: {list(games_df.columns[:10])}...\")  # Show first 10 columns\n",
    "    \n",
    "    # Game frequency analysis\n",
    "    games_by_date = games_df.groupby(games_df['game_date'].dt.date).size()\n",
    "    print(f\"• Total games in dataset: {len(games_df)}\")\n",
    "    print(f\"• Date range: {games_df['game_date'].min().date()} to {games_df['game_date'].max().date()}\")\n",
    "    print(f\"• Average games per day: {games_by_date.mean():.1f}\")\n",
    "    print(f\"• Most games in one day: {games_by_date.max()}\")"
   ]
  },
  {
   "cell_type": "code",
   "execution_count": 19,
   "metadata": {},
   "outputs": [
    {
     "name": "stdout",
     "output_type": "stream",
     "text": [
      "MODEL PERFORMANCE VISUALIZATION\n",
      "==================================================\n",
      "❌ No prediction data available for visualization\n",
      "• Run the model on recent games to generate prediction data\n",
      "• Ensure performance tracking is enabled in the pipeline\n",
      "\n",
      "GAME TRENDS ANALYSIS (Available Data)\n",
      "--------------------------------------------------\n",
      "\n",
      "RECOMMENDATIONS FOR IMPROVING ANALYSIS:\n",
      "--------------------------------------------------\n",
      "• Enable prediction logging in the model pipeline\n",
      "• Track betting performance with detailed records\n",
      "• Implement confidence calibration analysis\n",
      "• Add feature importance tracking over time\n",
      "• Monitor for model drift and performance degradation\n"
     ]
    }
   ],
   "source": [
    "# Model Performance Visualization and Betting Trends\n",
    "if 'predictions_df' in locals() and predictions_df is not None and not predictions_df.empty:\n",
    "    print(\"MODEL PERFORMANCE VISUALIZATIONS\")\n",
    "    print(\"=\"*50)\n",
    "    \n",
    "    # Create comprehensive performance dashboard\n",
    "    fig = make_subplots(\n",
    "        rows=2, cols=2,\n",
    "        subplot_titles=('Prediction Accuracy Over Time', 'Confidence Distribution', \n",
    "                       'Accuracy by Confidence Level', 'Prediction Volume by Date'),\n",
    "        specs=[[{\"secondary_y\": False}, {\"type\": \"histogram\"}],\n",
    "               [{\"type\": \"bar\"}, {\"secondary_y\": False}]]\n",
    "    )\n",
    "    \n",
    "    # 1. Accuracy over time (if we have enough data)\n",
    "    if len(predictions_df) > 10:\n",
    "        predictions_df['prediction_week'] = predictions_df['prediction_date'].dt.to_period('W')\n",
    "        weekly_accuracy = predictions_df.groupby('prediction_week').agg({\n",
    "            'predicted_outcome': 'count',\n",
    "            'actual_outcome': lambda x: (predictions_df.loc[x.index, 'actual_outcome'] == \n",
    "                                       predictions_df.loc[x.index, 'predicted_outcome']).sum()\n",
    "        })\n",
    "        weekly_accuracy['accuracy'] = weekly_accuracy['actual_outcome'] / weekly_accuracy['predicted_outcome']\n",
    "        \n",
    "        fig.add_trace(\n",
    "            go.Scatter(x=[str(w) for w in weekly_accuracy.index], \n",
    "                      y=weekly_accuracy['accuracy'],\n",
    "                      mode='lines+markers',\n",
    "                      name='Weekly Accuracy',\n",
    "                      line=dict(color='blue')),\n",
    "            row=1, col=1\n",
    "        )\n",
    "        \n",
    "        # Add horizontal line at 50% (random baseline)\n",
    "        fig.add_hline(y=0.5, line_dash=\"dash\", line_color=\"red\", \n",
    "                     annotation_text=\"Random Baseline (50%)\", row=1, col=1)\n",
    "    \n",
    "    # 2. Confidence distribution\n",
    "    if 'confidence' in predictions_df.columns:\n",
    "        fig.add_trace(\n",
    "            go.Histogram(x=predictions_df['confidence'], \n",
    "                        nbinsx=20, \n",
    "                        name='Confidence Distribution',\n",
    "                        marker_color='lightblue'),\n",
    "            row=1, col=2\n",
    "        )\n",
    "    \n",
    "    # 3. Accuracy by confidence level\n",
    "    if 'confidence_bucket' in predictions_df.columns:\n",
    "        conf_accuracy = predictions_df.groupby('confidence_bucket').agg({\n",
    "            'predicted_outcome': 'count',\n",
    "            'actual_outcome': lambda x: (predictions_df.loc[x.index, 'actual_outcome'] == \n",
    "                                       predictions_df.loc[x.index, 'predicted_outcome']).sum()\n",
    "        })\n",
    "        conf_accuracy['accuracy'] = conf_accuracy['actual_outcome'] / conf_accuracy['predicted_outcome']\n",
    "        \n",
    "        colors = ['red', 'orange', 'lightgreen', 'green']\n",
    "        fig.add_trace(\n",
    "            go.Bar(x=[str(idx) for idx in conf_accuracy.index if pd.notna(idx)], \n",
    "                   y=[conf_accuracy.loc[idx, 'accuracy'] for idx in conf_accuracy.index if pd.notna(idx)],\n",
    "                   name='Accuracy by Confidence',\n",
    "                   marker_color=colors[:len([idx for idx in conf_accuracy.index if pd.notna(idx)])]),\n",
    "            row=2, col=1\n",
    "        )\n",
    "        \n",
    "        # Add baseline\n",
    "        fig.add_hline(y=0.5, line_dash=\"dash\", line_color=\"red\", row=2, col=1)\n",
    "    \n",
    "    # 4. Prediction volume over time\n",
    "    daily_predictions = predictions_df.groupby(predictions_df['prediction_date'].dt.date).size()\n",
    "    fig.add_trace(\n",
    "        go.Scatter(x=list(daily_predictions.index), \n",
    "                  y=daily_predictions.values,\n",
    "                  mode='lines+markers',\n",
    "                  name='Daily Predictions',\n",
    "                  line=dict(color='purple')),\n",
    "        row=2, col=2\n",
    "    )\n",
    "    \n",
    "    fig.update_layout(height=800, title_text=\"Model Performance Dashboard\", showlegend=False)\n",
    "    fig.update_xaxes(title_text=\"Week\", row=1, col=1)\n",
    "    fig.update_yaxes(title_text=\"Accuracy\", row=1, col=1)\n",
    "    fig.update_xaxes(title_text=\"Confidence Score\", row=1, col=2)\n",
    "    fig.update_yaxes(title_text=\"Frequency\", row=1, col=2)\n",
    "    fig.update_xaxes(title_text=\"Confidence Level\", row=2, col=1)\n",
    "    fig.update_yaxes(title_text=\"Accuracy\", row=2, col=1)\n",
    "    fig.update_xaxes(title_text=\"Date\", row=2, col=2)\n",
    "    fig.update_yaxes(title_text=\"Number of Predictions\", row=2, col=2)\n",
    "    \n",
    "    fig.show()\n",
    "    \n",
    "    # Performance summary statistics\n",
    "    print(f\"\\nMODEL PERFORMANCE SUMMARY:\")\n",
    "    print(\"-\" * 50)\n",
    "    if 'actual_outcome' in predictions_df.columns and 'predicted_outcome' in predictions_df.columns:\n",
    "        overall_accuracy = (predictions_df['actual_outcome'] == predictions_df['predicted_outcome']).mean()\n",
    "        print(f\"• Overall Accuracy: {overall_accuracy:.1%}\")\n",
    "        \n",
    "        # Calculate precision, recall if we have binary outcomes\n",
    "        if predictions_df['actual_outcome'].nunique() == 2:\n",
    "            true_positives = ((predictions_df['actual_outcome'] == 1) & (predictions_df['predicted_outcome'] == 1)).sum()\n",
    "            false_positives = ((predictions_df['actual_outcome'] == 0) & (predictions_df['predicted_outcome'] == 1)).sum()\n",
    "            false_negatives = ((predictions_df['actual_outcome'] == 1) & (predictions_df['predicted_outcome'] == 0)).sum()\n",
    "            \n",
    "            precision = true_positives / (true_positives + false_positives) if (true_positives + false_positives) > 0 else 0\n",
    "            recall = true_positives / (true_positives + false_negatives) if (true_positives + false_negatives) > 0 else 0\n",
    "            f1_score = 2 * (precision * recall) / (precision + recall) if (precision + recall) > 0 else 0\n",
    "            \n",
    "            print(f\"• Precision: {precision:.1%}\")\n",
    "            print(f\"• Recall: {recall:.1%}\")\n",
    "            print(f\"• F1 Score: {f1_score:.3f}\")\n",
    "    \n",
    "    if 'confidence' in predictions_df.columns:\n",
    "        print(f\"• Average Confidence: {predictions_df['confidence'].mean():.1%}\")\n",
    "        print(f\"• Confidence Range: {predictions_df['confidence'].min():.1%} - {predictions_df['confidence'].max():.1%}\")\n",
    "\n",
    "# Betting Performance Visualization\n",
    "if 'betting_df' in locals() and betting_df is not None and not betting_df.empty:\n",
    "    print(f\"\\nBETTING PERFORMANCE VISUALIZATIONS\")\n",
    "    print(\"=\"*50)\n",
    "    \n",
    "    # Create betting performance dashboard\n",
    "    fig2 = make_subplots(\n",
    "        rows=2, cols=2,\n",
    "        subplot_titles=('Cumulative Profit/Loss', 'Bet Size Distribution', \n",
    "                       'Win Rate by Bet Size', 'Daily P&L'),\n",
    "        specs=[[{\"secondary_y\": False}, {\"type\": \"histogram\"}],\n",
    "               [{\"type\": \"scatter\"}, {\"secondary_y\": False}]]\n",
    "    )\n",
    "    \n",
    "    # 1. Cumulative P&L\n",
    "    if 'profit_loss' in betting_df.columns:\n",
    "        betting_df_sorted = betting_df.sort_values('bet_date')\n",
    "        betting_df_sorted['cumulative_pnl'] = betting_df_sorted['profit_loss'].cumsum()\n",
    "        \n",
    "        fig2.add_trace(\n",
    "            go.Scatter(x=betting_df_sorted['bet_date'], \n",
    "                      y=betting_df_sorted['cumulative_pnl'],\n",
    "                      mode='lines',\n",
    "                      name='Cumulative P&L',\n",
    "                      line=dict(color='green' if betting_df_sorted['cumulative_pnl'].iloc[-1] > 0 else 'red')),\n",
    "            row=1, col=1\n",
    "        )\n",
    "        \n",
    "        # Add break-even line\n",
    "        fig2.add_hline(y=0, line_dash=\"dash\", line_color=\"black\", \n",
    "                      annotation_text=\"Break Even\", row=1, col=1)\n",
    "    \n",
    "    # 2. Bet size distribution\n",
    "    if 'bet_amount' in betting_df.columns:\n",
    "        fig2.add_trace(\n",
    "            go.Histogram(x=betting_df['bet_amount'], \n",
    "                        nbinsx=20, \n",
    "                        name='Bet Size Distribution',\n",
    "                        marker_color='lightcoral'),\n",
    "            row=1, col=2\n",
    "        )\n",
    "    \n",
    "    # 3. Win rate by bet size (if we have enough data)\n",
    "    if 'bet_amount' in betting_df.columns and 'profit_loss' in betting_df.columns:\n",
    "        betting_df['bet_size_bucket'] = pd.qcut(betting_df['bet_amount'], \n",
    "                                               q=min(5, len(betting_df.bet_amount.unique())), \n",
    "                                               labels=False, duplicates='drop')\n",
    "        bet_size_analysis = betting_df.groupby('bet_size_bucket').agg({\n",
    "            'profit_loss': ['count', lambda x: (x > 0).mean(), 'mean'],\n",
    "            'bet_amount': 'mean'\n",
    "        })\n",
    "        bet_size_analysis.columns = ['bet_count', 'win_rate', 'avg_pnl', 'avg_bet_size']\n",
    "        \n",
    "        fig2.add_trace(\n",
    "            go.Scatter(x=bet_size_analysis['avg_bet_size'], \n",
    "                      y=bet_size_analysis['win_rate'],\n",
    "                      mode='markers',\n",
    "                      marker=dict(size=bet_size_analysis['bet_count']*2, \n",
    "                                 color=bet_size_analysis['avg_pnl'],\n",
    "                                 colorscale='RdYlGn', \n",
    "                                 showscale=True),\n",
    "                      name='Win Rate vs Bet Size'),\n",
    "            row=2, col=1\n",
    "        )\n",
    "    \n",
    "    # 4. Daily P&L\n",
    "    if 'profit_loss' in betting_df.columns:\n",
    "        daily_pnl = betting_df.groupby(betting_df['bet_date'].dt.date)['profit_loss'].sum()\n",
    "        colors = ['green' if x > 0 else 'red' for x in daily_pnl.values]\n",
    "        \n",
    "        fig2.add_trace(\n",
    "            go.Bar(x=list(daily_pnl.index), \n",
    "                   y=daily_pnl.values,\n",
    "                   marker_color=colors,\n",
    "                   name='Daily P&L'),\n",
    "            row=2, col=2\n",
    "        )\n",
    "        \n",
    "        fig2.add_hline(y=0, line_dash=\"dash\", line_color=\"black\", row=2, col=2)\n",
    "    \n",
    "    fig2.update_layout(height=800, title_text=\"Betting Performance Dashboard\", showlegend=False)\n",
    "    fig2.update_xaxes(title_text=\"Date\", row=1, col=1)\n",
    "    fig2.update_yaxes(title_text=\"Cumulative P&L ($)\", row=1, col=1)\n",
    "    fig2.update_xaxes(title_text=\"Bet Amount ($)\", row=1, col=2)\n",
    "    fig2.update_yaxes(title_text=\"Frequency\", row=1, col=2)\n",
    "    fig2.update_xaxes(title_text=\"Average Bet Size ($)\", row=2, col=1)\n",
    "    fig2.update_yaxes(title_text=\"Win Rate\", row=2, col=1)\n",
    "    fig2.update_xaxes(title_text=\"Date\", row=2, col=2)\n",
    "    fig2.update_yaxes(title_text=\"Daily P&L ($)\", row=2, col=2)\n",
    "    \n",
    "    fig2.show()\n",
    "    \n",
    "    # Betting insights\n",
    "    print(f\"\\nBETTING PERFORMANCE INSIGHTS:\")\n",
    "    print(\"-\" * 50)\n",
    "    if 'profit_loss' in betting_df.columns:\n",
    "        total_profit = betting_df['profit_loss'].sum()\n",
    "        winning_bets = (betting_df['profit_loss'] > 0).sum()\n",
    "        losing_bets = (betting_df['profit_loss'] < 0).sum()\n",
    "        win_rate = winning_bets / len(betting_df)\n",
    "        \n",
    "        print(f\"• Total Profit/Loss: ${total_profit:,.2f}\")\n",
    "        print(f\"• Winning Bets: {winning_bets} ({win_rate:.1%})\")\n",
    "        print(f\"• Losing Bets: {losing_bets}\")\n",
    "        \n",
    "        if winning_bets > 0:\n",
    "            avg_win = betting_df[betting_df['profit_loss'] > 0]['profit_loss'].mean()\n",
    "            print(f\"• Average Win: ${avg_win:.2f}\")\n",
    "        \n",
    "        if losing_bets > 0:\n",
    "            avg_loss = betting_df[betting_df['profit_loss'] < 0]['profit_loss'].mean()\n",
    "            print(f\"• Average Loss: ${avg_loss:.2f}\")\n",
    "        \n",
    "        # Streaks analysis\n",
    "        betting_df_sorted = betting_df.sort_values('bet_date')\n",
    "        betting_df_sorted['is_win'] = betting_df_sorted['profit_loss'] > 0\n",
    "        \n",
    "        # Calculate winning and losing streaks\n",
    "        streaks = []\n",
    "        current_streak = 1\n",
    "        current_type = betting_df_sorted['is_win'].iloc[0]\n",
    "        \n",
    "        for i in range(1, len(betting_df_sorted)):\n",
    "            if betting_df_sorted['is_win'].iloc[i] == current_type:\n",
    "                current_streak += 1\n",
    "            else:\n",
    "                streaks.append((current_type, current_streak))\n",
    "                current_streak = 1\n",
    "                current_type = betting_df_sorted['is_win'].iloc[i]\n",
    "        streaks.append((current_type, current_streak))\n",
    "        \n",
    "        win_streaks = [s[1] for s in streaks if s[0]]\n",
    "        lose_streaks = [s[1] for s in streaks if not s[0]]\n",
    "        \n",
    "        if win_streaks:\n",
    "            print(f\"• Longest Winning Streak: {max(win_streaks)} bets\")\n",
    "        if lose_streaks:\n",
    "            print(f\"• Longest Losing Streak: {max(lose_streaks)} bets\")\n",
    "\n",
    "elif 'predictions_df' not in locals() or predictions_df is None or predictions_df.empty:\n",
    "    print(\"MODEL PERFORMANCE VISUALIZATION\")\n",
    "    print(\"=\"*50)\n",
    "    print(\"❌ No prediction data available for visualization\")\n",
    "    print(\"• Run the model on recent games to generate prediction data\")\n",
    "    print(\"• Ensure performance tracking is enabled in the pipeline\")\n",
    "    \n",
    "    # Create placeholder visualization for recent games analysis\n",
    "    if games_df is not None:\n",
    "        print(f\"\\nGAME TRENDS ANALYSIS (Available Data)\")\n",
    "        print(\"-\" * 50)\n",
    "        \n",
    "        # Analyze scoring trends over time\n",
    "        if 'home_score' in games_df.columns and 'away_score' in games_df.columns:\n",
    "            games_df['total_points'] = games_df['home_score'] + games_df['away_score']\n",
    "            games_df['game_month'] = games_df['game_date'].dt.to_period('M')\n",
    "            \n",
    "            monthly_stats = games_df.groupby('game_month').agg({\n",
    "                'total_points': 'mean',\n",
    "                'home_score': 'mean',\n",
    "                'away_score': 'mean'\n",
    "            }).round(1)\n",
    "            \n",
    "            # Create simple scoring trends plot\n",
    "            fig = px.line(x=[str(m) for m in monthly_stats.index], \n",
    "                         y=monthly_stats['total_points'],\n",
    "                         title='Average Total Points Per Game by Month',\n",
    "                         labels={'x': 'Month', 'y': 'Average Total Points'})\n",
    "            fig.show()\n",
    "            \n",
    "            print(f\"• Highest scoring month: {monthly_stats['total_points'].idxmax()} ({monthly_stats['total_points'].max():.1f} PPG)\")\n",
    "            print(f\"• Lowest scoring month: {monthly_stats['total_points'].idxmin()} ({monthly_stats['total_points'].min():.1f} PPG)\")\n",
    "\n",
    "print(f\"\\nRECOMMENDATIONS FOR IMPROVING ANALYSIS:\")\n",
    "print(\"-\" * 50)\n",
    "print(\"• Enable prediction logging in the model pipeline\")\n",
    "print(\"• Track betting performance with detailed records\")\n",
    "print(\"• Implement confidence calibration analysis\")\n",
    "print(\"• Add feature importance tracking over time\")\n",
    "print(\"• Monitor for model drift and performance degradation\")"
   ]
  }
 ],
 "metadata": {
  "kernelspec": {
   "display_name": ".venv (3.11.4)",
   "language": "python",
   "name": "python3"
  },
  "language_info": {
   "codemirror_mode": {
    "name": "ipython",
    "version": 3
   },
   "file_extension": ".py",
   "mimetype": "text/x-python",
   "name": "python",
   "nbconvert_exporter": "python",
   "pygments_lexer": "ipython3",
   "version": "3.11.4"
  }
 },
 "nbformat": 4,
 "nbformat_minor": 2
}
